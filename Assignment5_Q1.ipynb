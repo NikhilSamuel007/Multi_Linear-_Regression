{
 "cells": [
  {
   "cell_type": "code",
   "execution_count": 1,
   "id": "575c03a6",
   "metadata": {
    "ExecuteTime": {
     "end_time": "2022-10-17T13:54:52.210832Z",
     "start_time": "2022-10-17T13:54:48.076283Z"
    }
   },
   "outputs": [],
   "source": [
    "import pandas as pd\n",
    "import numpy as np\n",
    "import matplotlib.pyplot as plt\n",
    "import seaborn as sns\n",
    "import statsmodels.formula.api as smf"
   ]
  },
  {
   "cell_type": "code",
   "execution_count": 2,
   "id": "b7e5b061",
   "metadata": {
    "ExecuteTime": {
     "end_time": "2022-10-17T13:54:52.615688Z",
     "start_time": "2022-10-17T13:54:52.210832Z"
    }
   },
   "outputs": [],
   "source": [
    "data = pd.read_csv(\"50_Startups.csv\")"
   ]
  },
  {
   "cell_type": "code",
   "execution_count": 3,
   "id": "41436443",
   "metadata": {
    "ExecuteTime": {
     "end_time": "2022-10-17T13:54:53.567842Z",
     "start_time": "2022-10-17T13:54:53.527845Z"
    }
   },
   "outputs": [
    {
     "data": {
      "text/html": [
       "<div>\n",
       "<style scoped>\n",
       "    .dataframe tbody tr th:only-of-type {\n",
       "        vertical-align: middle;\n",
       "    }\n",
       "\n",
       "    .dataframe tbody tr th {\n",
       "        vertical-align: top;\n",
       "    }\n",
       "\n",
       "    .dataframe thead th {\n",
       "        text-align: right;\n",
       "    }\n",
       "</style>\n",
       "<table border=\"1\" class=\"dataframe\">\n",
       "  <thead>\n",
       "    <tr style=\"text-align: right;\">\n",
       "      <th></th>\n",
       "      <th>R&amp;D Spend</th>\n",
       "      <th>Administration</th>\n",
       "      <th>Marketing Spend</th>\n",
       "      <th>State</th>\n",
       "      <th>Profit</th>\n",
       "    </tr>\n",
       "  </thead>\n",
       "  <tbody>\n",
       "    <tr>\n",
       "      <th>0</th>\n",
       "      <td>165349.20</td>\n",
       "      <td>136897.80</td>\n",
       "      <td>471784.10</td>\n",
       "      <td>New York</td>\n",
       "      <td>192261.83</td>\n",
       "    </tr>\n",
       "    <tr>\n",
       "      <th>1</th>\n",
       "      <td>162597.70</td>\n",
       "      <td>151377.59</td>\n",
       "      <td>443898.53</td>\n",
       "      <td>California</td>\n",
       "      <td>191792.06</td>\n",
       "    </tr>\n",
       "    <tr>\n",
       "      <th>2</th>\n",
       "      <td>153441.51</td>\n",
       "      <td>101145.55</td>\n",
       "      <td>407934.54</td>\n",
       "      <td>Florida</td>\n",
       "      <td>191050.39</td>\n",
       "    </tr>\n",
       "    <tr>\n",
       "      <th>3</th>\n",
       "      <td>144372.41</td>\n",
       "      <td>118671.85</td>\n",
       "      <td>383199.62</td>\n",
       "      <td>New York</td>\n",
       "      <td>182901.99</td>\n",
       "    </tr>\n",
       "    <tr>\n",
       "      <th>4</th>\n",
       "      <td>142107.34</td>\n",
       "      <td>91391.77</td>\n",
       "      <td>366168.42</td>\n",
       "      <td>Florida</td>\n",
       "      <td>166187.94</td>\n",
       "    </tr>\n",
       "  </tbody>\n",
       "</table>\n",
       "</div>"
      ],
      "text/plain": [
       "   R&D Spend  Administration  Marketing Spend       State     Profit\n",
       "0  165349.20       136897.80        471784.10    New York  192261.83\n",
       "1  162597.70       151377.59        443898.53  California  191792.06\n",
       "2  153441.51       101145.55        407934.54     Florida  191050.39\n",
       "3  144372.41       118671.85        383199.62    New York  182901.99\n",
       "4  142107.34        91391.77        366168.42     Florida  166187.94"
      ]
     },
     "execution_count": 3,
     "metadata": {},
     "output_type": "execute_result"
    }
   ],
   "source": [
    "data.head()"
   ]
  },
  {
   "cell_type": "code",
   "execution_count": 4,
   "id": "7c7af4ca",
   "metadata": {
    "ExecuteTime": {
     "end_time": "2022-10-17T13:54:55.476685Z",
     "start_time": "2022-10-17T13:54:55.460686Z"
    }
   },
   "outputs": [
    {
     "data": {
      "text/plain": [
       "R&D Spend          0\n",
       "Administration     0\n",
       "Marketing Spend    0\n",
       "State              0\n",
       "Profit             0\n",
       "dtype: int64"
      ]
     },
     "execution_count": 4,
     "metadata": {},
     "output_type": "execute_result"
    }
   ],
   "source": [
    "data.isnull().sum()"
   ]
  },
  {
   "cell_type": "code",
   "execution_count": 5,
   "id": "58422749",
   "metadata": {
    "ExecuteTime": {
     "end_time": "2022-10-17T13:54:57.514822Z",
     "start_time": "2022-10-17T13:54:57.490823Z"
    }
   },
   "outputs": [],
   "source": [
    "data = data.rename({'R&D Spend':'RandD_Spend','Marketing Spend':'Marketing_Spend'},axis=1)"
   ]
  },
  {
   "cell_type": "code",
   "execution_count": 6,
   "id": "ab74c4e5",
   "metadata": {
    "ExecuteTime": {
     "end_time": "2022-10-17T13:55:00.178798Z",
     "start_time": "2022-10-17T13:55:00.154795Z"
    }
   },
   "outputs": [
    {
     "data": {
      "text/html": [
       "<div>\n",
       "<style scoped>\n",
       "    .dataframe tbody tr th:only-of-type {\n",
       "        vertical-align: middle;\n",
       "    }\n",
       "\n",
       "    .dataframe tbody tr th {\n",
       "        vertical-align: top;\n",
       "    }\n",
       "\n",
       "    .dataframe thead th {\n",
       "        text-align: right;\n",
       "    }\n",
       "</style>\n",
       "<table border=\"1\" class=\"dataframe\">\n",
       "  <thead>\n",
       "    <tr style=\"text-align: right;\">\n",
       "      <th></th>\n",
       "      <th>RandD_Spend</th>\n",
       "      <th>Administration</th>\n",
       "      <th>Marketing_Spend</th>\n",
       "      <th>State</th>\n",
       "      <th>Profit</th>\n",
       "    </tr>\n",
       "  </thead>\n",
       "  <tbody>\n",
       "    <tr>\n",
       "      <th>0</th>\n",
       "      <td>165349.20</td>\n",
       "      <td>136897.80</td>\n",
       "      <td>471784.10</td>\n",
       "      <td>New York</td>\n",
       "      <td>192261.83</td>\n",
       "    </tr>\n",
       "    <tr>\n",
       "      <th>1</th>\n",
       "      <td>162597.70</td>\n",
       "      <td>151377.59</td>\n",
       "      <td>443898.53</td>\n",
       "      <td>California</td>\n",
       "      <td>191792.06</td>\n",
       "    </tr>\n",
       "    <tr>\n",
       "      <th>2</th>\n",
       "      <td>153441.51</td>\n",
       "      <td>101145.55</td>\n",
       "      <td>407934.54</td>\n",
       "      <td>Florida</td>\n",
       "      <td>191050.39</td>\n",
       "    </tr>\n",
       "    <tr>\n",
       "      <th>3</th>\n",
       "      <td>144372.41</td>\n",
       "      <td>118671.85</td>\n",
       "      <td>383199.62</td>\n",
       "      <td>New York</td>\n",
       "      <td>182901.99</td>\n",
       "    </tr>\n",
       "    <tr>\n",
       "      <th>4</th>\n",
       "      <td>142107.34</td>\n",
       "      <td>91391.77</td>\n",
       "      <td>366168.42</td>\n",
       "      <td>Florida</td>\n",
       "      <td>166187.94</td>\n",
       "    </tr>\n",
       "  </tbody>\n",
       "</table>\n",
       "</div>"
      ],
      "text/plain": [
       "   RandD_Spend  Administration  Marketing_Spend       State     Profit\n",
       "0    165349.20       136897.80        471784.10    New York  192261.83\n",
       "1    162597.70       151377.59        443898.53  California  191792.06\n",
       "2    153441.51       101145.55        407934.54     Florida  191050.39\n",
       "3    144372.41       118671.85        383199.62    New York  182901.99\n",
       "4    142107.34        91391.77        366168.42     Florida  166187.94"
      ]
     },
     "execution_count": 6,
     "metadata": {},
     "output_type": "execute_result"
    }
   ],
   "source": [
    "data.head()"
   ]
  },
  {
   "cell_type": "code",
   "execution_count": 7,
   "id": "72002d65",
   "metadata": {
    "ExecuteTime": {
     "end_time": "2022-10-17T13:55:07.790010Z",
     "start_time": "2022-10-17T13:55:07.766009Z"
    }
   },
   "outputs": [
    {
     "data": {
      "text/html": [
       "<div>\n",
       "<style scoped>\n",
       "    .dataframe tbody tr th:only-of-type {\n",
       "        vertical-align: middle;\n",
       "    }\n",
       "\n",
       "    .dataframe tbody tr th {\n",
       "        vertical-align: top;\n",
       "    }\n",
       "\n",
       "    .dataframe thead th {\n",
       "        text-align: right;\n",
       "    }\n",
       "</style>\n",
       "<table border=\"1\" class=\"dataframe\">\n",
       "  <thead>\n",
       "    <tr style=\"text-align: right;\">\n",
       "      <th></th>\n",
       "      <th>RandD_Spend</th>\n",
       "      <th>Administration</th>\n",
       "      <th>Marketing_Spend</th>\n",
       "      <th>Profit</th>\n",
       "    </tr>\n",
       "  </thead>\n",
       "  <tbody>\n",
       "    <tr>\n",
       "      <th>RandD_Spend</th>\n",
       "      <td>1.000000</td>\n",
       "      <td>0.241955</td>\n",
       "      <td>0.724248</td>\n",
       "      <td>0.972900</td>\n",
       "    </tr>\n",
       "    <tr>\n",
       "      <th>Administration</th>\n",
       "      <td>0.241955</td>\n",
       "      <td>1.000000</td>\n",
       "      <td>-0.032154</td>\n",
       "      <td>0.200717</td>\n",
       "    </tr>\n",
       "    <tr>\n",
       "      <th>Marketing_Spend</th>\n",
       "      <td>0.724248</td>\n",
       "      <td>-0.032154</td>\n",
       "      <td>1.000000</td>\n",
       "      <td>0.747766</td>\n",
       "    </tr>\n",
       "    <tr>\n",
       "      <th>Profit</th>\n",
       "      <td>0.972900</td>\n",
       "      <td>0.200717</td>\n",
       "      <td>0.747766</td>\n",
       "      <td>1.000000</td>\n",
       "    </tr>\n",
       "  </tbody>\n",
       "</table>\n",
       "</div>"
      ],
      "text/plain": [
       "                 RandD_Spend  Administration  Marketing_Spend    Profit\n",
       "RandD_Spend         1.000000        0.241955         0.724248  0.972900\n",
       "Administration      0.241955        1.000000        -0.032154  0.200717\n",
       "Marketing_Spend     0.724248       -0.032154         1.000000  0.747766\n",
       "Profit              0.972900        0.200717         0.747766  1.000000"
      ]
     },
     "execution_count": 7,
     "metadata": {},
     "output_type": "execute_result"
    }
   ],
   "source": [
    "data.corr()"
   ]
  },
  {
   "cell_type": "code",
   "execution_count": 8,
   "id": "f506e16b",
   "metadata": {
    "ExecuteTime": {
     "end_time": "2022-10-17T13:55:16.953236Z",
     "start_time": "2022-10-17T13:55:12.844545Z"
    }
   },
   "outputs": [
    {
     "data": {
      "text/plain": [
       "<seaborn.axisgrid.PairGrid at 0x21015bf7c70>"
      ]
     },
     "execution_count": 8,
     "metadata": {},
     "output_type": "execute_result"
    },
    {
     "data": {
      "image/png": "[encoded data removed]",
      "text/plain": [
       "<Figure size 720x720 with 20 Axes>"
      ]
     },
     "metadata": {},
     "output_type": "display_data"
    }
   ],
   "source": [
    "sns.set_style(style='darkgrid')\n",
    "sns.pairplot(data)"
   ]
  },
  {
   "cell_type": "markdown",
   "id": "86e94d0c",
   "metadata": {
    "ExecuteTime": {
     "end_time": "2022-10-17T07:52:16.188366Z",
     "start_time": "2022-10-17T07:52:16.178269Z"
    }
   },
   "source": [
    "# Creating model "
   ]
  },
  {
   "cell_type": "code",
   "execution_count": 9,
   "id": "63b6efc1",
   "metadata": {
    "ExecuteTime": {
     "end_time": "2022-10-17T13:55:31.261499Z",
     "start_time": "2022-10-17T13:55:31.211285Z"
    }
   },
   "outputs": [],
   "source": [
    "model = smf.ols('Profit~RandD_Spend+Administration+Marketing_Spend',data=data).fit()"
   ]
  },
  {
   "cell_type": "code",
   "execution_count": 10,
   "id": "527001f0",
   "metadata": {
    "ExecuteTime": {
     "end_time": "2022-10-17T13:55:33.637945Z",
     "start_time": "2022-10-17T13:55:33.613944Z"
    }
   },
   "outputs": [
    {
     "data": {
      "text/plain": [
       "Intercept          50122.192990\n",
       "RandD_Spend            0.805715\n",
       "Administration        -0.026816\n",
       "Marketing_Spend        0.027228\n",
       "dtype: float64"
      ]
     },
     "execution_count": 10,
     "metadata": {},
     "output_type": "execute_result"
    }
   ],
   "source": [
    "model.params"
   ]
  },
  {
   "cell_type": "code",
   "execution_count": 11,
   "id": "0e7cea0f",
   "metadata": {
    "ExecuteTime": {
     "end_time": "2022-10-17T13:55:35.105604Z",
     "start_time": "2022-10-17T13:55:35.049610Z"
    },
    "scrolled": false
   },
   "outputs": [
    {
     "data": {
      "text/html": [
       "<table class=\"simpletable\">\n",
       "<caption>OLS Regression Results</caption>\n",
       "<tr>\n",
       "  <th>Dep. Variable:</th>         <td>Profit</td>      <th>  R-squared:         </th> <td>   0.951</td>\n",
       "</tr>\n",
       "<tr>\n",
       "  <th>Model:</th>                   <td>OLS</td>       <th>  Adj. R-squared:    </th> <td>   0.948</td>\n",
       "</tr>\n",
       "<tr>\n",
       "  <th>Method:</th>             <td>Least Squares</td>  <th>  F-statistic:       </th> <td>   296.0</td>\n",
       "</tr>\n",
       "<tr>\n",
       "  <th>Date:</th>             <td>Mon, 17 Oct 2022</td> <th>  Prob (F-statistic):</th> <td>4.53e-30</td>\n",
       "</tr>\n",
       "<tr>\n",
       "  <th>Time:</th>                 <td>19:25:35</td>     <th>  Log-Likelihood:    </th> <td> -525.39</td>\n",
       "</tr>\n",
       "<tr>\n",
       "  <th>No. Observations:</th>      <td>    50</td>      <th>  AIC:               </th> <td>   1059.</td>\n",
       "</tr>\n",
       "<tr>\n",
       "  <th>Df Residuals:</th>          <td>    46</td>      <th>  BIC:               </th> <td>   1066.</td>\n",
       "</tr>\n",
       "<tr>\n",
       "  <th>Df Model:</th>              <td>     3</td>      <th>                     </th>     <td> </td>   \n",
       "</tr>\n",
       "<tr>\n",
       "  <th>Covariance Type:</th>      <td>nonrobust</td>    <th>                     </th>     <td> </td>   \n",
       "</tr>\n",
       "</table>\n",
       "<table class=\"simpletable\">\n",
       "<tr>\n",
       "         <td></td>            <th>coef</th>     <th>std err</th>      <th>t</th>      <th>P>|t|</th>  <th>[0.025</th>    <th>0.975]</th>  \n",
       "</tr>\n",
       "<tr>\n",
       "  <th>Intercept</th>       <td> 5.012e+04</td> <td> 6572.353</td> <td>    7.626</td> <td> 0.000</td> <td> 3.69e+04</td> <td> 6.34e+04</td>\n",
       "</tr>\n",
       "<tr>\n",
       "  <th>RandD_Spend</th>     <td>    0.8057</td> <td>    0.045</td> <td>   17.846</td> <td> 0.000</td> <td>    0.715</td> <td>    0.897</td>\n",
       "</tr>\n",
       "<tr>\n",
       "  <th>Administration</th>  <td>   -0.0268</td> <td>    0.051</td> <td>   -0.526</td> <td> 0.602</td> <td>   -0.130</td> <td>    0.076</td>\n",
       "</tr>\n",
       "<tr>\n",
       "  <th>Marketing_Spend</th> <td>    0.0272</td> <td>    0.016</td> <td>    1.655</td> <td> 0.105</td> <td>   -0.006</td> <td>    0.060</td>\n",
       "</tr>\n",
       "</table>\n",
       "<table class=\"simpletable\">\n",
       "<tr>\n",
       "  <th>Omnibus:</th>       <td>14.838</td> <th>  Durbin-Watson:     </th> <td>   1.282</td>\n",
       "</tr>\n",
       "<tr>\n",
       "  <th>Prob(Omnibus):</th> <td> 0.001</td> <th>  Jarque-Bera (JB):  </th> <td>  21.442</td>\n",
       "</tr>\n",
       "<tr>\n",
       "  <th>Skew:</th>          <td>-0.949</td> <th>  Prob(JB):          </th> <td>2.21e-05</td>\n",
       "</tr>\n",
       "<tr>\n",
       "  <th>Kurtosis:</th>      <td> 5.586</td> <th>  Cond. No.          </th> <td>1.40e+06</td>\n",
       "</tr>\n",
       "</table><br/><br/>Notes:<br/>[1] Standard Errors assume that the covariance matrix of the errors is correctly specified.<br/>[2] The condition number is large, 1.4e+06. This might indicate that there are<br/>strong multicollinearity or other numerical problems."
      ],
      "text/plain": [
       "<class 'statsmodels.iolib.summary.Summary'>\n",
       "\"\"\"\n",
       "                            OLS Regression Results                            \n",
       "==============================================================================\n",
       "Dep. Variable:                 Profit   R-squared:                       0.951\n",
       "Model:                            OLS   Adj. R-squared:                  0.948\n",
       "Method:                 Least Squares   F-statistic:                     296.0\n",
       "Date:                Mon, 17 Oct 2022   Prob (F-statistic):           4.53e-30\n",
       "Time:                        19:25:35   Log-Likelihood:                -525.39\n",
       "No. Observations:                  50   AIC:                             1059.\n",
       "Df Residuals:                      46   BIC:                             1066.\n",
       "Df Model:                           3                                         \n",
       "Covariance Type:            nonrobust                                         \n",
       "===================================================================================\n",
       "                      coef    std err          t      P>|t|      [0.025      0.975]\n",
       "-----------------------------------------------------------------------------------\n",
       "Intercept        5.012e+04   6572.353      7.626      0.000    3.69e+04    6.34e+04\n",
       "RandD_Spend         0.8057      0.045     17.846      0.000       0.715       0.897\n",
       "Administration     -0.0268      0.051     -0.526      0.602      -0.130       0.076\n",
       "Marketing_Spend     0.0272      0.016      1.655      0.105      -0.006       0.060\n",
       "==============================================================================\n",
       "Omnibus:                       14.838   Durbin-Watson:                   1.282\n",
       "Prob(Omnibus):                  0.001   Jarque-Bera (JB):               21.442\n",
       "Skew:                          -0.949   Prob(JB):                     2.21e-05\n",
       "Kurtosis:                       5.586   Cond. No.                     1.40e+06\n",
       "==============================================================================\n",
       "\n",
       "Notes:\n",
       "[1] Standard Errors assume that the covariance matrix of the errors is correctly specified.\n",
       "[2] The condition number is large, 1.4e+06. This might indicate that there are\n",
       "strong multicollinearity or other numerical problems.\n",
       "\"\"\""
      ]
     },
     "execution_count": 11,
     "metadata": {},
     "output_type": "execute_result"
    }
   ],
   "source": [
    "model.summary()"
   ]
  },
  {
   "cell_type": "markdown",
   "id": "e754cf39",
   "metadata": {
    "ExecuteTime": {
     "end_time": "2022-10-17T13:58:15.171632Z",
     "start_time": "2022-10-17T13:58:15.163632Z"
    }
   },
   "source": [
    "# Since we are having P values above 0.05 for Administration and Marketing Spend, we are checking seperately "
   ]
  },
  {
   "cell_type": "code",
   "execution_count": 13,
   "id": "a177d8c9",
   "metadata": {
    "ExecuteTime": {
     "end_time": "2022-10-17T13:58:20.425301Z",
     "start_time": "2022-10-17T13:58:20.404757Z"
    }
   },
   "outputs": [],
   "source": [
    "model_a = smf.ols('Profit~Administration',data=data).fit()"
   ]
  },
  {
   "cell_type": "code",
   "execution_count": 14,
   "id": "bf207792",
   "metadata": {
    "ExecuteTime": {
     "end_time": "2022-10-17T13:58:25.499228Z",
     "start_time": "2022-10-17T13:58:25.459229Z"
    },
    "scrolled": true
   },
   "outputs": [
    {
     "data": {
      "text/html": [
       "<table class=\"simpletable\">\n",
       "<caption>OLS Regression Results</caption>\n",
       "<tr>\n",
       "  <th>Dep. Variable:</th>         <td>Profit</td>      <th>  R-squared:         </th> <td>   0.040</td>\n",
       "</tr>\n",
       "<tr>\n",
       "  <th>Model:</th>                   <td>OLS</td>       <th>  Adj. R-squared:    </th> <td>   0.020</td>\n",
       "</tr>\n",
       "<tr>\n",
       "  <th>Method:</th>             <td>Least Squares</td>  <th>  F-statistic:       </th> <td>   2.015</td>\n",
       "</tr>\n",
       "<tr>\n",
       "  <th>Date:</th>             <td>Mon, 17 Oct 2022</td> <th>  Prob (F-statistic):</th>  <td> 0.162</td> \n",
       "</tr>\n",
       "<tr>\n",
       "  <th>Time:</th>                 <td>19:28:25</td>     <th>  Log-Likelihood:    </th> <td> -599.63</td>\n",
       "</tr>\n",
       "<tr>\n",
       "  <th>No. Observations:</th>      <td>    50</td>      <th>  AIC:               </th> <td>   1203.</td>\n",
       "</tr>\n",
       "<tr>\n",
       "  <th>Df Residuals:</th>          <td>    48</td>      <th>  BIC:               </th> <td>   1207.</td>\n",
       "</tr>\n",
       "<tr>\n",
       "  <th>Df Model:</th>              <td>     1</td>      <th>                     </th>     <td> </td>   \n",
       "</tr>\n",
       "<tr>\n",
       "  <th>Covariance Type:</th>      <td>nonrobust</td>    <th>                     </th>     <td> </td>   \n",
       "</tr>\n",
       "</table>\n",
       "<table class=\"simpletable\">\n",
       "<tr>\n",
       "         <td></td>           <th>coef</th>     <th>std err</th>      <th>t</th>      <th>P>|t|</th>  <th>[0.025</th>    <th>0.975]</th>  \n",
       "</tr>\n",
       "<tr>\n",
       "  <th>Intercept</th>      <td> 7.697e+04</td> <td> 2.53e+04</td> <td>    3.040</td> <td> 0.004</td> <td> 2.61e+04</td> <td> 1.28e+05</td>\n",
       "</tr>\n",
       "<tr>\n",
       "  <th>Administration</th> <td>    0.2887</td> <td>    0.203</td> <td>    1.419</td> <td> 0.162</td> <td>   -0.120</td> <td>    0.698</td>\n",
       "</tr>\n",
       "</table>\n",
       "<table class=\"simpletable\">\n",
       "<tr>\n",
       "  <th>Omnibus:</th>       <td> 0.126</td> <th>  Durbin-Watson:     </th> <td>   0.099</td>\n",
       "</tr>\n",
       "<tr>\n",
       "  <th>Prob(Omnibus):</th> <td> 0.939</td> <th>  Jarque-Bera (JB):  </th> <td>   0.110</td>\n",
       "</tr>\n",
       "<tr>\n",
       "  <th>Skew:</th>          <td> 0.093</td> <th>  Prob(JB):          </th> <td>   0.947</td>\n",
       "</tr>\n",
       "<tr>\n",
       "  <th>Kurtosis:</th>      <td> 2.866</td> <th>  Cond. No.          </th> <td>5.59e+05</td>\n",
       "</tr>\n",
       "</table><br/><br/>Notes:<br/>[1] Standard Errors assume that the covariance matrix of the errors is correctly specified.<br/>[2] The condition number is large, 5.59e+05. This might indicate that there are<br/>strong multicollinearity or other numerical problems."
      ],
      "text/plain": [
       "<class 'statsmodels.iolib.summary.Summary'>\n",
       "\"\"\"\n",
       "                            OLS Regression Results                            \n",
       "==============================================================================\n",
       "Dep. Variable:                 Profit   R-squared:                       0.040\n",
       "Model:                            OLS   Adj. R-squared:                  0.020\n",
       "Method:                 Least Squares   F-statistic:                     2.015\n",
       "Date:                Mon, 17 Oct 2022   Prob (F-statistic):              0.162\n",
       "Time:                        19:28:25   Log-Likelihood:                -599.63\n",
       "No. Observations:                  50   AIC:                             1203.\n",
       "Df Residuals:                      48   BIC:                             1207.\n",
       "Df Model:                           1                                         \n",
       "Covariance Type:            nonrobust                                         \n",
       "==================================================================================\n",
       "                     coef    std err          t      P>|t|      [0.025      0.975]\n",
       "----------------------------------------------------------------------------------\n",
       "Intercept       7.697e+04   2.53e+04      3.040      0.004    2.61e+04    1.28e+05\n",
       "Administration     0.2887      0.203      1.419      0.162      -0.120       0.698\n",
       "==============================================================================\n",
       "Omnibus:                        0.126   Durbin-Watson:                   0.099\n",
       "Prob(Omnibus):                  0.939   Jarque-Bera (JB):                0.110\n",
       "Skew:                           0.093   Prob(JB):                        0.947\n",
       "Kurtosis:                       2.866   Cond. No.                     5.59e+05\n",
       "==============================================================================\n",
       "\n",
       "Notes:\n",
       "[1] Standard Errors assume that the covariance matrix of the errors is correctly specified.\n",
       "[2] The condition number is large, 5.59e+05. This might indicate that there are\n",
       "strong multicollinearity or other numerical problems.\n",
       "\"\"\""
      ]
     },
     "execution_count": 14,
     "metadata": {},
     "output_type": "execute_result"
    }
   ],
   "source": [
    "model_a.summary()"
   ]
  },
  {
   "cell_type": "markdown",
   "id": "53e9ea4e",
   "metadata": {
    "ExecuteTime": {
     "end_time": "2022-10-17T13:59:43.976375Z",
     "start_time": "2022-10-17T13:59:43.968378Z"
    }
   },
   "source": [
    "# still we are having p value higher than 0.05 for Adminstration. so, It is not needed"
   ]
  },
  {
   "cell_type": "code",
   "execution_count": 15,
   "id": "fa0a7990",
   "metadata": {
    "ExecuteTime": {
     "end_time": "2022-10-17T13:58:38.528265Z",
     "start_time": "2022-10-17T13:58:38.504262Z"
    }
   },
   "outputs": [],
   "source": [
    "model_m = smf.ols('Profit~Marketing_Spend', data=data).fit()"
   ]
  },
  {
   "cell_type": "code",
   "execution_count": 16,
   "id": "4d21fbdf",
   "metadata": {
    "ExecuteTime": {
     "end_time": "2022-10-17T13:58:39.664944Z",
     "start_time": "2022-10-17T13:58:39.616950Z"
    },
    "scrolled": true
   },
   "outputs": [
    {
     "data": {
      "text/html": [
       "<table class=\"simpletable\">\n",
       "<caption>OLS Regression Results</caption>\n",
       "<tr>\n",
       "  <th>Dep. Variable:</th>         <td>Profit</td>      <th>  R-squared:         </th> <td>   0.559</td>\n",
       "</tr>\n",
       "<tr>\n",
       "  <th>Model:</th>                   <td>OLS</td>       <th>  Adj. R-squared:    </th> <td>   0.550</td>\n",
       "</tr>\n",
       "<tr>\n",
       "  <th>Method:</th>             <td>Least Squares</td>  <th>  F-statistic:       </th> <td>   60.88</td>\n",
       "</tr>\n",
       "<tr>\n",
       "  <th>Date:</th>             <td>Mon, 17 Oct 2022</td> <th>  Prob (F-statistic):</th> <td>4.38e-10</td>\n",
       "</tr>\n",
       "<tr>\n",
       "  <th>Time:</th>                 <td>19:28:39</td>     <th>  Log-Likelihood:    </th> <td> -580.18</td>\n",
       "</tr>\n",
       "<tr>\n",
       "  <th>No. Observations:</th>      <td>    50</td>      <th>  AIC:               </th> <td>   1164.</td>\n",
       "</tr>\n",
       "<tr>\n",
       "  <th>Df Residuals:</th>          <td>    48</td>      <th>  BIC:               </th> <td>   1168.</td>\n",
       "</tr>\n",
       "<tr>\n",
       "  <th>Df Model:</th>              <td>     1</td>      <th>                     </th>     <td> </td>   \n",
       "</tr>\n",
       "<tr>\n",
       "  <th>Covariance Type:</th>      <td>nonrobust</td>    <th>                     </th>     <td> </td>   \n",
       "</tr>\n",
       "</table>\n",
       "<table class=\"simpletable\">\n",
       "<tr>\n",
       "         <td></td>            <th>coef</th>     <th>std err</th>      <th>t</th>      <th>P>|t|</th>  <th>[0.025</th>    <th>0.975]</th>  \n",
       "</tr>\n",
       "<tr>\n",
       "  <th>Intercept</th>       <td>     6e+04</td> <td> 7684.530</td> <td>    7.808</td> <td> 0.000</td> <td> 4.46e+04</td> <td> 7.55e+04</td>\n",
       "</tr>\n",
       "<tr>\n",
       "  <th>Marketing_Spend</th> <td>    0.2465</td> <td>    0.032</td> <td>    7.803</td> <td> 0.000</td> <td>    0.183</td> <td>    0.310</td>\n",
       "</tr>\n",
       "</table>\n",
       "<table class=\"simpletable\">\n",
       "<tr>\n",
       "  <th>Omnibus:</th>       <td> 4.420</td> <th>  Durbin-Watson:     </th> <td>   1.178</td>\n",
       "</tr>\n",
       "<tr>\n",
       "  <th>Prob(Omnibus):</th> <td> 0.110</td> <th>  Jarque-Bera (JB):  </th> <td>   3.882</td>\n",
       "</tr>\n",
       "<tr>\n",
       "  <th>Skew:</th>          <td>-0.336</td> <th>  Prob(JB):          </th> <td>   0.144</td>\n",
       "</tr>\n",
       "<tr>\n",
       "  <th>Kurtosis:</th>      <td> 4.188</td> <th>  Cond. No.          </th> <td>4.89e+05</td>\n",
       "</tr>\n",
       "</table><br/><br/>Notes:<br/>[1] Standard Errors assume that the covariance matrix of the errors is correctly specified.<br/>[2] The condition number is large, 4.89e+05. This might indicate that there are<br/>strong multicollinearity or other numerical problems."
      ],
      "text/plain": [
       "<class 'statsmodels.iolib.summary.Summary'>\n",
       "\"\"\"\n",
       "                            OLS Regression Results                            \n",
       "==============================================================================\n",
       "Dep. Variable:                 Profit   R-squared:                       0.559\n",
       "Model:                            OLS   Adj. R-squared:                  0.550\n",
       "Method:                 Least Squares   F-statistic:                     60.88\n",
       "Date:                Mon, 17 Oct 2022   Prob (F-statistic):           4.38e-10\n",
       "Time:                        19:28:39   Log-Likelihood:                -580.18\n",
       "No. Observations:                  50   AIC:                             1164.\n",
       "Df Residuals:                      48   BIC:                             1168.\n",
       "Df Model:                           1                                         \n",
       "Covariance Type:            nonrobust                                         \n",
       "===================================================================================\n",
       "                      coef    std err          t      P>|t|      [0.025      0.975]\n",
       "-----------------------------------------------------------------------------------\n",
       "Intercept            6e+04   7684.530      7.808      0.000    4.46e+04    7.55e+04\n",
       "Marketing_Spend     0.2465      0.032      7.803      0.000       0.183       0.310\n",
       "==============================================================================\n",
       "Omnibus:                        4.420   Durbin-Watson:                   1.178\n",
       "Prob(Omnibus):                  0.110   Jarque-Bera (JB):                3.882\n",
       "Skew:                          -0.336   Prob(JB):                        0.144\n",
       "Kurtosis:                       4.188   Cond. No.                     4.89e+05\n",
       "==============================================================================\n",
       "\n",
       "Notes:\n",
       "[1] Standard Errors assume that the covariance matrix of the errors is correctly specified.\n",
       "[2] The condition number is large, 4.89e+05. This might indicate that there are\n",
       "strong multicollinearity or other numerical problems.\n",
       "\"\"\""
      ]
     },
     "execution_count": 16,
     "metadata": {},
     "output_type": "execute_result"
    }
   ],
   "source": [
    "model_m.summary()"
   ]
  },
  {
   "cell_type": "markdown",
   "id": "bf3d63e7",
   "metadata": {},
   "source": [
    "# Here the p value is extremely low, H0 is accepted. so, It is needed"
   ]
  },
  {
   "cell_type": "code",
   "execution_count": 18,
   "id": "eec359ec",
   "metadata": {
    "ExecuteTime": {
     "end_time": "2022-10-17T14:01:21.903063Z",
     "start_time": "2022-10-17T14:01:21.871060Z"
    }
   },
   "outputs": [],
   "source": [
    "model_am = smf.ols('Profit~Marketing_Spend+Administration',data=data).fit()"
   ]
  },
  {
   "cell_type": "code",
   "execution_count": 19,
   "id": "0a40c7d7",
   "metadata": {
    "ExecuteTime": {
     "end_time": "2022-10-17T14:01:23.394209Z",
     "start_time": "2022-10-17T14:01:23.362211Z"
    },
    "scrolled": true
   },
   "outputs": [
    {
     "data": {
      "text/html": [
       "<table class=\"simpletable\">\n",
       "<caption>OLS Regression Results</caption>\n",
       "<tr>\n",
       "  <th>Dep. Variable:</th>         <td>Profit</td>      <th>  R-squared:         </th> <td>   0.610</td>\n",
       "</tr>\n",
       "<tr>\n",
       "  <th>Model:</th>                   <td>OLS</td>       <th>  Adj. R-squared:    </th> <td>   0.593</td>\n",
       "</tr>\n",
       "<tr>\n",
       "  <th>Method:</th>             <td>Least Squares</td>  <th>  F-statistic:       </th> <td>   36.71</td>\n",
       "</tr>\n",
       "<tr>\n",
       "  <th>Date:</th>             <td>Mon, 17 Oct 2022</td> <th>  Prob (F-statistic):</th> <td>2.50e-10</td>\n",
       "</tr>\n",
       "<tr>\n",
       "  <th>Time:</th>                 <td>19:31:23</td>     <th>  Log-Likelihood:    </th> <td> -577.13</td>\n",
       "</tr>\n",
       "<tr>\n",
       "  <th>No. Observations:</th>      <td>    50</td>      <th>  AIC:               </th> <td>   1160.</td>\n",
       "</tr>\n",
       "<tr>\n",
       "  <th>Df Residuals:</th>          <td>    47</td>      <th>  BIC:               </th> <td>   1166.</td>\n",
       "</tr>\n",
       "<tr>\n",
       "  <th>Df Model:</th>              <td>     2</td>      <th>                     </th>     <td> </td>   \n",
       "</tr>\n",
       "<tr>\n",
       "  <th>Covariance Type:</th>      <td>nonrobust</td>    <th>                     </th>     <td> </td>   \n",
       "</tr>\n",
       "</table>\n",
       "<table class=\"simpletable\">\n",
       "<tr>\n",
       "         <td></td>            <th>coef</th>     <th>std err</th>      <th>t</th>      <th>P>|t|</th>  <th>[0.025</th>    <th>0.975]</th>  \n",
       "</tr>\n",
       "<tr>\n",
       "  <th>Intercept</th>       <td> 2.022e+04</td> <td> 1.77e+04</td> <td>    1.143</td> <td> 0.259</td> <td>-1.54e+04</td> <td> 5.58e+04</td>\n",
       "</tr>\n",
       "<tr>\n",
       "  <th>Marketing_Spend</th> <td>    0.2488</td> <td>    0.030</td> <td>    8.281</td> <td> 0.000</td> <td>    0.188</td> <td>    0.309</td>\n",
       "</tr>\n",
       "<tr>\n",
       "  <th>Administration</th>  <td>    0.3237</td> <td>    0.131</td> <td>    2.468</td> <td> 0.017</td> <td>    0.060</td> <td>    0.588</td>\n",
       "</tr>\n",
       "</table>\n",
       "<table class=\"simpletable\">\n",
       "<tr>\n",
       "  <th>Omnibus:</th>       <td> 6.584</td> <th>  Durbin-Watson:     </th> <td>   1.279</td>\n",
       "</tr>\n",
       "<tr>\n",
       "  <th>Prob(Omnibus):</th> <td> 0.037</td> <th>  Jarque-Bera (JB):  </th> <td>   6.524</td>\n",
       "</tr>\n",
       "<tr>\n",
       "  <th>Skew:</th>          <td>-0.512</td> <th>  Prob(JB):          </th> <td>  0.0383</td>\n",
       "</tr>\n",
       "<tr>\n",
       "  <th>Kurtosis:</th>      <td> 4.443</td> <th>  Cond. No.          </th> <td>1.30e+06</td>\n",
       "</tr>\n",
       "</table><br/><br/>Notes:<br/>[1] Standard Errors assume that the covariance matrix of the errors is correctly specified.<br/>[2] The condition number is large, 1.3e+06. This might indicate that there are<br/>strong multicollinearity or other numerical problems."
      ],
      "text/plain": [
       "<class 'statsmodels.iolib.summary.Summary'>\n",
       "\"\"\"\n",
       "                            OLS Regression Results                            \n",
       "==============================================================================\n",
       "Dep. Variable:                 Profit   R-squared:                       0.610\n",
       "Model:                            OLS   Adj. R-squared:                  0.593\n",
       "Method:                 Least Squares   F-statistic:                     36.71\n",
       "Date:                Mon, 17 Oct 2022   Prob (F-statistic):           2.50e-10\n",
       "Time:                        19:31:23   Log-Likelihood:                -577.13\n",
       "No. Observations:                  50   AIC:                             1160.\n",
       "Df Residuals:                      47   BIC:                             1166.\n",
       "Df Model:                           2                                         \n",
       "Covariance Type:            nonrobust                                         \n",
       "===================================================================================\n",
       "                      coef    std err          t      P>|t|      [0.025      0.975]\n",
       "-----------------------------------------------------------------------------------\n",
       "Intercept        2.022e+04   1.77e+04      1.143      0.259   -1.54e+04    5.58e+04\n",
       "Marketing_Spend     0.2488      0.030      8.281      0.000       0.188       0.309\n",
       "Administration      0.3237      0.131      2.468      0.017       0.060       0.588\n",
       "==============================================================================\n",
       "Omnibus:                        6.584   Durbin-Watson:                   1.279\n",
       "Prob(Omnibus):                  0.037   Jarque-Bera (JB):                6.524\n",
       "Skew:                          -0.512   Prob(JB):                       0.0383\n",
       "Kurtosis:                       4.443   Cond. No.                     1.30e+06\n",
       "==============================================================================\n",
       "\n",
       "Notes:\n",
       "[1] Standard Errors assume that the covariance matrix of the errors is correctly specified.\n",
       "[2] The condition number is large, 1.3e+06. This might indicate that there are\n",
       "strong multicollinearity or other numerical problems.\n",
       "\"\"\""
      ]
     },
     "execution_count": 19,
     "metadata": {},
     "output_type": "execute_result"
    }
   ],
   "source": [
    "model_am.summary()"
   ]
  },
  {
   "cell_type": "code",
   "execution_count": 20,
   "id": "36b56a83",
   "metadata": {
    "ExecuteTime": {
     "end_time": "2022-10-17T14:02:37.906537Z",
     "start_time": "2022-10-17T14:02:37.882515Z"
    }
   },
   "outputs": [],
   "source": [
    "# But we checking with both, then we got p values low. so, we use both"
   ]
  },
  {
   "cell_type": "markdown",
   "id": "3bd6c40e",
   "metadata": {
    "ExecuteTime": {
     "end_time": "2022-10-17T08:15:46.365441Z",
     "start_time": "2022-10-17T08:15:46.321814Z"
    }
   },
   "source": [
    "# calculating VIF"
   ]
  },
  {
   "cell_type": "code",
   "execution_count": 21,
   "id": "0d7f8188",
   "metadata": {
    "ExecuteTime": {
     "end_time": "2022-10-17T14:02:44.033369Z",
     "start_time": "2022-10-17T14:02:43.943985Z"
    }
   },
   "outputs": [],
   "source": [
    "rsq_rnd = smf.ols(\"RandD_Spend~Administration+Marketing_Spend+Profit\",data=data).fit().rsquared\n",
    "vif_rnd = 1/(1-rsq_rnd)\n",
    "rsq_admin = smf.ols('Administration~RandD_Spend+Marketing_Spend+Profit',data=data).fit().rsquared\n",
    "vif_admin = 1/(1-rsq_admin)\n",
    "rsq_market = smf.ols('Marketing_Spend~RandD_Spend+Administration+Profit',data=data).fit().rsquared\n",
    "vif_market = 1-(1-rsq_market)\n",
    "rsq_profit = smf.ols('Profit~RandD_Spend+Administration+Marketing_Spend',data=data).fit().rsquared\n",
    "vif_profit = 1/(1-rsq_profit)"
   ]
  },
  {
   "cell_type": "code",
   "execution_count": 22,
   "id": "720fd9dd",
   "metadata": {
    "ExecuteTime": {
     "end_time": "2022-10-17T14:02:47.169268Z",
     "start_time": "2022-10-17T14:02:47.161268Z"
    }
   },
   "outputs": [],
   "source": [
    "# sorting vif values in data frame\n",
    "dvif = {'variables':['RandD_Spend','Administration','Marketing_Spend','Profit'], 'VIF': [vif_rnd,vif_admin,vif_market,vif_profit]}"
   ]
  },
  {
   "cell_type": "code",
   "execution_count": 23,
   "id": "b3806531",
   "metadata": {
    "ExecuteTime": {
     "end_time": "2022-10-17T14:02:53.139395Z",
     "start_time": "2022-10-17T14:02:53.123387Z"
    }
   },
   "outputs": [],
   "source": [
    "vif_dframe = pd.DataFrame(dvif)"
   ]
  },
  {
   "cell_type": "code",
   "execution_count": 24,
   "id": "b492a70b",
   "metadata": {
    "ExecuteTime": {
     "end_time": "2022-10-17T14:02:54.670164Z",
     "start_time": "2022-10-17T14:02:54.654147Z"
    }
   },
   "outputs": [
    {
     "data": {
      "text/html": [
       "<div>\n",
       "<style scoped>\n",
       "    .dataframe tbody tr th:only-of-type {\n",
       "        vertical-align: middle;\n",
       "    }\n",
       "\n",
       "    .dataframe tbody tr th {\n",
       "        vertical-align: top;\n",
       "    }\n",
       "\n",
       "    .dataframe thead th {\n",
       "        text-align: right;\n",
       "    }\n",
       "</style>\n",
       "<table border=\"1\" class=\"dataframe\">\n",
       "  <thead>\n",
       "    <tr style=\"text-align: right;\">\n",
       "      <th></th>\n",
       "      <th>variables</th>\n",
       "      <th>VIF</th>\n",
       "    </tr>\n",
       "  </thead>\n",
       "  <tbody>\n",
       "    <tr>\n",
       "      <th>0</th>\n",
       "      <td>RandD_Spend</td>\n",
       "      <td>19.563001</td>\n",
       "    </tr>\n",
       "    <tr>\n",
       "      <th>1</th>\n",
       "      <td>Administration</td>\n",
       "      <td>1.182146</td>\n",
       "    </tr>\n",
       "    <tr>\n",
       "      <th>2</th>\n",
       "      <td>Marketing_Spend</td>\n",
       "      <td>0.594375</td>\n",
       "    </tr>\n",
       "    <tr>\n",
       "      <th>3</th>\n",
       "      <td>Profit</td>\n",
       "      <td>20.302917</td>\n",
       "    </tr>\n",
       "  </tbody>\n",
       "</table>\n",
       "</div>"
      ],
      "text/plain": [
       "         variables        VIF\n",
       "0      RandD_Spend  19.563001\n",
       "1   Administration   1.182146\n",
       "2  Marketing_Spend   0.594375\n",
       "3           Profit  20.302917"
      ]
     },
     "execution_count": 24,
     "metadata": {},
     "output_type": "execute_result"
    }
   ],
   "source": [
    "vif_dframe"
   ]
  },
  {
   "cell_type": "markdown",
   "id": "263081b4",
   "metadata": {
    "ExecuteTime": {
     "end_time": "2022-10-17T14:03:01.254004Z",
     "start_time": "2022-10-17T14:03:01.246005Z"
    }
   },
   "source": [
    "# Residual Analysis\n",
    "\n",
    "# Test for Normality of Residuals( Q-Q Plot)"
   ]
  },
  {
   "cell_type": "code",
   "execution_count": 26,
   "id": "52e54dc2",
   "metadata": {
    "ExecuteTime": {
     "end_time": "2022-10-17T14:03:08.791637Z",
     "start_time": "2022-10-17T14:03:08.767529Z"
    }
   },
   "outputs": [
    {
     "data": {
      "text/plain": [
       "0      -259.422890\n",
       "1      2635.291768\n",
       "2      8903.110904\n",
       "3      9205.289974\n",
       "4     -5951.574183\n",
       "5     -6589.660571\n",
       "6     -1991.586669\n",
       "7     -4268.763048\n",
       "8       470.070301\n",
       "9     -5124.724110\n",
       "10    10612.933633\n",
       "11     8685.687039\n",
       "12    12447.465818\n",
       "13     6819.358337\n",
       "14   -16945.996335\n",
       "15   -16318.119985\n",
       "16    10077.524599\n",
       "17    -4822.077208\n",
       "18    -4747.326806\n",
       "19     7141.643633\n",
       "20     1834.360769\n",
       "21    -6006.431640\n",
       "22    -4354.731717\n",
       "23    -1262.625221\n",
       "24    -4810.926113\n",
       "25     5166.614935\n",
       "26    -4867.035350\n",
       "27    -9399.761457\n",
       "28     1622.353995\n",
       "29     -790.343452\n",
       "30      485.217064\n",
       "31     -204.296276\n",
       "32    -1573.488985\n",
       "33    -1136.087805\n",
       "34     7673.526259\n",
       "35     5967.910432\n",
       "36    15422.015415\n",
       "37      329.602292\n",
       "38    11531.629352\n",
       "39    -2723.251977\n",
       "40     3423.956009\n",
       "41     2996.273761\n",
       "42      878.078179\n",
       "43     9591.940037\n",
       "44      588.975084\n",
       "45    17275.430313\n",
       "46    -6675.456853\n",
       "47    -3930.858983\n",
       "48   -13497.978158\n",
       "49   -33533.734111\n",
       "dtype: float64"
      ]
     },
     "execution_count": 26,
     "metadata": {},
     "output_type": "execute_result"
    }
   ],
   "source": [
    "model.resid"
   ]
  },
  {
   "cell_type": "code",
   "execution_count": 27,
   "id": "d6832e17",
   "metadata": {
    "ExecuteTime": {
     "end_time": "2022-10-17T14:03:11.691508Z",
     "start_time": "2022-10-17T14:03:11.675510Z"
    }
   },
   "outputs": [
    {
     "data": {
      "text/plain": [
       "0     192521.252890\n",
       "1     189156.768232\n",
       "2     182147.279096\n",
       "3     173696.700026\n",
       "4     172139.514183\n",
       "5     163580.780571\n",
       "6     158114.096669\n",
       "7     160021.363048\n",
       "8     151741.699699\n",
       "9     154884.684110\n",
       "10    135509.016367\n",
       "11    135573.712961\n",
       "12    129138.054182\n",
       "13    127487.991663\n",
       "14    149548.646335\n",
       "15    146235.159985\n",
       "16    116915.405401\n",
       "17    130192.447208\n",
       "18    129014.226806\n",
       "19    115635.216367\n",
       "20    116639.669231\n",
       "21    117319.451640\n",
       "22    114706.981717\n",
       "23    109996.615221\n",
       "24    113362.966113\n",
       "25    102237.725065\n",
       "26    110600.575350\n",
       "27    114408.071457\n",
       "28    101660.026005\n",
       "29    101794.983452\n",
       "30     99452.372936\n",
       "31     97687.856276\n",
       "32     99001.328985\n",
       "33     97915.007805\n",
       "34     89039.273741\n",
       "35     90511.599568\n",
       "36     75286.174585\n",
       "37     89619.537708\n",
       "38     69697.430648\n",
       "39     83729.011977\n",
       "40     74815.953991\n",
       "41     74802.556239\n",
       "42     70620.411821\n",
       "43     60167.039963\n",
       "44     64611.354916\n",
       "45     47650.649687\n",
       "46     56166.206853\n",
       "47     46490.588983\n",
       "48     49171.388158\n",
       "49     48215.134111\n",
       "dtype: float64"
      ]
     },
     "execution_count": 27,
     "metadata": {},
     "output_type": "execute_result"
    }
   ],
   "source": [
    "model.fittedvalues"
   ]
  },
  {
   "cell_type": "code",
   "execution_count": 28,
   "id": "d65f56ed",
   "metadata": {
    "ExecuteTime": {
     "end_time": "2022-10-17T14:03:16.117107Z",
     "start_time": "2022-10-17T14:03:14.131800Z"
    }
   },
   "outputs": [
    {
     "data": {
      "image/png": "[encoded data removed]",
      "text/plain": [
       "<Figure size 432x288 with 1 Axes>"
      ]
     },
     "metadata": {},
     "output_type": "display_data"
    }
   ],
   "source": [
    "import statsmodels.api as sm\n",
    "qqplot = sm.qqplot(model.resid, line='q')\n",
    "plt.title('Normal Q-Q plot of residuals')\n",
    "plt.show()"
   ]
  },
  {
   "cell_type": "markdown",
   "id": "0efc3637",
   "metadata": {
    "ExecuteTime": {
     "end_time": "2022-10-17T14:03:19.108916Z",
     "start_time": "2022-10-17T14:03:19.084416Z"
    }
   },
   "source": [
    "# Residual Plot for Homoscedasticity"
   ]
  },
  {
   "cell_type": "code",
   "execution_count": 30,
   "id": "4b345f71",
   "metadata": {
    "ExecuteTime": {
     "end_time": "2022-10-17T14:03:22.962946Z",
     "start_time": "2022-10-17T14:03:22.946949Z"
    }
   },
   "outputs": [],
   "source": [
    "def get_Standardized_values(vals):\n",
    "    return(vals- vals.mean())/ vals.std()"
   ]
  },
  {
   "cell_type": "code",
   "execution_count": 31,
   "id": "e0801836",
   "metadata": {
    "ExecuteTime": {
     "end_time": "2022-10-17T14:03:25.836522Z",
     "start_time": "2022-10-17T14:03:25.515336Z"
    }
   },
   "outputs": [
    {
     "data": {
      "image/png": "[encoded data removed]",
      "text/plain": [
       "<Figure size 432x288 with 1 Axes>"
      ]
     },
     "metadata": {},
     "output_type": "display_data"
    }
   ],
   "source": [
    "plt.scatter(get_Standardized_values(model.fittedvalues),get_Standardized_values(model.resid))\n",
    "plt.title(\"Residual Plot\")\n",
    "plt.xlabel('Standardized fitted values')\n",
    "plt.ylabel('Standardized residual values')\n",
    "plt.show()"
   ]
  },
  {
   "cell_type": "markdown",
   "id": "4e044c9a",
   "metadata": {},
   "source": [
    "# Since the plot is showing that data is scattered and have no relation"
   ]
  },
  {
   "cell_type": "markdown",
   "id": "88e0c3e1",
   "metadata": {
    "ExecuteTime": {
     "end_time": "2022-10-17T11:33:17.450981Z",
     "start_time": "2022-10-17T11:33:17.434974Z"
    }
   },
   "source": [
    "# Residuals vs Regressors"
   ]
  },
  {
   "cell_type": "code",
   "execution_count": 32,
   "id": "4af0a52e",
   "metadata": {
    "ExecuteTime": {
     "end_time": "2022-10-17T14:04:40.128804Z",
     "start_time": "2022-10-17T14:04:38.737979Z"
    }
   },
   "outputs": [
    {
     "name": "stdout",
     "output_type": "stream",
     "text": [
      "eval_env: 1\n"
     ]
    },
    {
     "data": {
      "image/png": "[encoded data removed]",
      "text/plain": [
       "<Figure size 1080x576 with 4 Axes>"
      ]
     },
     "metadata": {},
     "output_type": "display_data"
    }
   ],
   "source": [
    "fig = plt.figure(figsize=(15,8))\n",
    "fig = sm.graphics.plot_regress_exog(model,'RandD_Spend',fig=fig)\n",
    "plt.show()"
   ]
  },
  {
   "cell_type": "markdown",
   "id": "938cc852",
   "metadata": {
    "ExecuteTime": {
     "end_time": "2022-10-17T11:35:53.954713Z",
     "start_time": "2022-10-17T11:35:53.949716Z"
    }
   },
   "source": [
    "# This is positively correlative"
   ]
  },
  {
   "cell_type": "code",
   "execution_count": 33,
   "id": "b497f1a4",
   "metadata": {
    "ExecuteTime": {
     "end_time": "2022-10-17T14:04:59.102737Z",
     "start_time": "2022-10-17T14:04:57.875382Z"
    }
   },
   "outputs": [
    {
     "name": "stdout",
     "output_type": "stream",
     "text": [
      "eval_env: 1\n"
     ]
    },
    {
     "data": {
      "image/png": "[encoded data removed]",
      "text/plain": [
       "<Figure size 1080x576 with 4 Axes>"
      ]
     },
     "metadata": {},
     "output_type": "display_data"
    }
   ],
   "source": [
    "fig = plt.figure(figsize=(15,8))\n",
    "fig = sm.graphics.plot_regress_exog(model,'Administration',fig=fig)\n",
    "plt.show()"
   ]
  },
  {
   "cell_type": "code",
   "execution_count": 34,
   "id": "76de3d9e",
   "metadata": {
    "ExecuteTime": {
     "end_time": "2022-10-17T14:05:07.587286Z",
     "start_time": "2022-10-17T14:05:06.319460Z"
    }
   },
   "outputs": [
    {
     "name": "stdout",
     "output_type": "stream",
     "text": [
      "eval_env: 1\n"
     ]
    },
    {
     "data": {
      "image/png": "[encoded data removed]",
      "text/plain": [
       "<Figure size 1080x576 with 4 Axes>"
      ]
     },
     "metadata": {},
     "output_type": "display_data"
    }
   ],
   "source": [
    "fig = plt.figure(figsize=(15,8))\n",
    "fig = sm.graphics.plot_regress_exog(model,'Marketing_Spend',fig=fig)\n",
    "plt.show()"
   ]
  },
  {
   "cell_type": "markdown",
   "id": "87f59da0",
   "metadata": {
    "ExecuteTime": {
     "end_time": "2022-10-17T12:08:54.014174Z",
     "start_time": "2022-10-17T12:08:54.003173Z"
    }
   },
   "source": [
    "# Model Deletion Process\n",
    "\n",
    "   # Detecting Influencers / Outlers"
   ]
  },
  {
   "cell_type": "code",
   "execution_count": 35,
   "id": "72f7a13c",
   "metadata": {
    "ExecuteTime": {
     "end_time": "2022-10-17T14:05:23.487430Z",
     "start_time": "2022-10-17T14:05:23.471427Z"
    }
   },
   "outputs": [],
   "source": [
    "model_influence = model.get_influence()\n",
    "(c,_)= model_influence.cooks_distance"
   ]
  },
  {
   "cell_type": "code",
   "execution_count": 36,
   "id": "c01e3d74",
   "metadata": {
    "ExecuteTime": {
     "end_time": "2022-10-17T14:05:24.768252Z",
     "start_time": "2022-10-17T14:05:24.744237Z"
    }
   },
   "outputs": [
    {
     "data": {
      "text/plain": [
       "array([3.21825244e-05, 3.27591036e-03, 3.23842699e-02, 2.17206555e-02,\n",
       "       1.44833032e-02, 1.17158463e-02, 2.91766303e-03, 3.56513444e-03,\n",
       "       4.04303948e-05, 4.86758017e-03, 1.51064757e-02, 1.63564959e-02,\n",
       "       1.15516625e-02, 4.01422811e-03, 6.12934253e-02, 3.40013448e-02,\n",
       "       8.33556413e-03, 3.30534399e-03, 2.16819303e-03, 4.07440577e-02,\n",
       "       4.25137222e-04, 1.09844352e-02, 2.91768000e-03, 2.76030254e-04,\n",
       "       5.04643588e-03, 3.00074623e-03, 3.41957068e-03, 2.98396413e-02,\n",
       "       1.31590664e-03, 1.25992620e-04, 4.18505125e-05, 9.27434786e-06,\n",
       "       7.08656521e-04, 1.28122674e-04, 2.09815032e-02, 6.69508674e-03,\n",
       "       5.55314705e-02, 6.55050578e-05, 5.61547311e-02, 1.54279607e-03,\n",
       "       1.84850929e-03, 1.97578066e-03, 1.36089280e-04, 2.05553171e-02,\n",
       "       1.23156041e-04, 9.03234206e-02, 5.45303387e-02, 5.33885616e-03,\n",
       "       1.90527441e-01, 2.88082293e-01])"
      ]
     },
     "execution_count": 36,
     "metadata": {},
     "output_type": "execute_result"
    }
   ],
   "source": [
    "c"
   ]
  },
  {
   "cell_type": "code",
   "execution_count": 37,
   "id": "6e12db03",
   "metadata": {
    "ExecuteTime": {
     "end_time": "2022-10-17T14:05:28.236288Z",
     "start_time": "2022-10-17T14:05:27.924512Z"
    }
   },
   "outputs": [
    {
     "data": {
      "image/png": "[encoded data removed]",
      "text/plain": [
       "<Figure size 1440x504 with 1 Axes>"
      ]
     },
     "metadata": {},
     "output_type": "display_data"
    }
   ],
   "source": [
    "# Plot the influencers value using stem plot\n",
    "\n",
    "fig = plt.figure(figsize=(20,7))\n",
    "plt.stem(np.arange(len(data)),np.round(c,3))\n",
    "plt.xlabel('Row Index')\n",
    "plt.ylabel('Cooks distance')\n",
    "plt.show()"
   ]
  },
  {
   "cell_type": "code",
   "execution_count": 38,
   "id": "0f509b95",
   "metadata": {
    "ExecuteTime": {
     "end_time": "2022-10-17T14:05:33.305108Z",
     "start_time": "2022-10-17T14:05:33.281092Z"
    }
   },
   "outputs": [
    {
     "data": {
      "text/plain": [
       "(49, 0.28808229275432634)"
      ]
     },
     "execution_count": 38,
     "metadata": {},
     "output_type": "execute_result"
    }
   ],
   "source": [
    "(np.argmax(c),np.max(c))"
   ]
  },
  {
   "cell_type": "code",
   "execution_count": 39,
   "id": "6592a31f",
   "metadata": {
    "ExecuteTime": {
     "end_time": "2022-10-17T14:05:33.970108Z",
     "start_time": "2022-10-17T14:05:33.954110Z"
    }
   },
   "outputs": [],
   "source": [
    "k = data.shape[1]\n",
    "n = data.shape[0]"
   ]
  },
  {
   "cell_type": "code",
   "execution_count": 40,
   "id": "5e203616",
   "metadata": {
    "ExecuteTime": {
     "end_time": "2022-10-17T14:05:34.621606Z",
     "start_time": "2022-10-17T14:05:34.597607Z"
    }
   },
   "outputs": [
    {
     "data": {
      "text/plain": [
       "5"
      ]
     },
     "execution_count": 40,
     "metadata": {},
     "output_type": "execute_result"
    }
   ],
   "source": [
    "k"
   ]
  },
  {
   "cell_type": "code",
   "execution_count": 41,
   "id": "5b23fa81",
   "metadata": {
    "ExecuteTime": {
     "end_time": "2022-10-17T14:05:35.880162Z",
     "start_time": "2022-10-17T14:05:35.864155Z"
    }
   },
   "outputs": [
    {
     "data": {
      "text/plain": [
       "50"
      ]
     },
     "execution_count": 41,
     "metadata": {},
     "output_type": "execute_result"
    }
   ],
   "source": [
    "n"
   ]
  },
  {
   "cell_type": "code",
   "execution_count": 43,
   "id": "65bb961c",
   "metadata": {
    "ExecuteTime": {
     "end_time": "2022-10-17T14:05:44.128039Z",
     "start_time": "2022-10-17T14:05:44.112040Z"
    }
   },
   "outputs": [],
   "source": [
    "threshold = 3*((k+1)/n)"
   ]
  },
  {
   "cell_type": "code",
   "execution_count": 44,
   "id": "943a76f0",
   "metadata": {
    "ExecuteTime": {
     "end_time": "2022-10-17T14:05:44.708109Z",
     "start_time": "2022-10-17T14:05:44.692112Z"
    }
   },
   "outputs": [
    {
     "data": {
      "text/plain": [
       "0.36"
      ]
     },
     "execution_count": 44,
     "metadata": {},
     "output_type": "execute_result"
    }
   ],
   "source": [
    "threshold"
   ]
  },
  {
   "cell_type": "markdown",
   "id": "27c3fbc3",
   "metadata": {
    "ExecuteTime": {
     "end_time": "2022-10-17T13:12:36.628137Z",
     "start_time": "2022-10-17T13:12:36.600152Z"
    }
   },
   "source": [
    "# High Influence Point "
   ]
  },
  {
   "cell_type": "code",
   "execution_count": 45,
   "id": "7b7c944b",
   "metadata": {
    "ExecuteTime": {
     "end_time": "2022-10-17T14:06:00.405911Z",
     "start_time": "2022-10-17T14:06:00.004166Z"
    }
   },
   "outputs": [
    {
     "data": {
      "image/png": "[encoded data removed]",
      "text/plain": [
       "<Figure size 432x288 with 1 Axes>"
      ]
     },
     "metadata": {},
     "output_type": "display_data"
    }
   ],
   "source": [
    "from statsmodels.graphics.regressionplots import influence_plot\n",
    "influence_plot(model)\n",
    "plt.show()"
   ]
  },
  {
   "cell_type": "code",
   "execution_count": 46,
   "id": "0f7bef56",
   "metadata": {
    "ExecuteTime": {
     "end_time": "2022-10-17T14:06:01.921861Z",
     "start_time": "2022-10-17T14:06:01.889861Z"
    }
   },
   "outputs": [
    {
     "data": {
      "text/html": [
       "<div>\n",
       "<style scoped>\n",
       "    .dataframe tbody tr th:only-of-type {\n",
       "        vertical-align: middle;\n",
       "    }\n",
       "\n",
       "    .dataframe tbody tr th {\n",
       "        vertical-align: top;\n",
       "    }\n",
       "\n",
       "    .dataframe thead th {\n",
       "        text-align: right;\n",
       "    }\n",
       "</style>\n",
       "<table border=\"1\" class=\"dataframe\">\n",
       "  <thead>\n",
       "    <tr style=\"text-align: right;\">\n",
       "      <th></th>\n",
       "      <th>RandD_Spend</th>\n",
       "      <th>Administration</th>\n",
       "      <th>Marketing_Spend</th>\n",
       "      <th>State</th>\n",
       "      <th>Profit</th>\n",
       "    </tr>\n",
       "  </thead>\n",
       "  <tbody>\n",
       "    <tr>\n",
       "      <th>49</th>\n",
       "      <td>0.0</td>\n",
       "      <td>116983.8</td>\n",
       "      <td>45173.06</td>\n",
       "      <td>California</td>\n",
       "      <td>14681.4</td>\n",
       "    </tr>\n",
       "  </tbody>\n",
       "</table>\n",
       "</div>"
      ],
      "text/plain": [
       "    RandD_Spend  Administration  Marketing_Spend       State   Profit\n",
       "49          0.0        116983.8         45173.06  California  14681.4"
      ]
     },
     "execution_count": 46,
     "metadata": {},
     "output_type": "execute_result"
    }
   ],
   "source": [
    "# from the plot\n",
    "data[data.index.isin([49])]"
   ]
  },
  {
   "cell_type": "markdown",
   "id": "2a440a2e",
   "metadata": {
    "ExecuteTime": {
     "end_time": "2022-10-17T14:06:08.522795Z",
     "start_time": "2022-10-17T14:06:08.506790Z"
    }
   },
   "source": [
    "# Improve the model"
   ]
  },
  {
   "cell_type": "code",
   "execution_count": 49,
   "id": "2083575e",
   "metadata": {
    "ExecuteTime": {
     "end_time": "2022-10-17T14:06:30.972157Z",
     "start_time": "2022-10-17T14:06:30.948137Z"
    }
   },
   "outputs": [],
   "source": [
    "data1 = data.drop(data.index[[49]],axis=0).reset_index()"
   ]
  },
  {
   "cell_type": "code",
   "execution_count": 50,
   "id": "cf6a70bd",
   "metadata": {
    "ExecuteTime": {
     "end_time": "2022-10-17T14:06:32.623116Z",
     "start_time": "2022-10-17T14:06:32.607116Z"
    }
   },
   "outputs": [],
   "source": [
    "data1= data1.drop(['index'],axis=1)"
   ]
  },
  {
   "cell_type": "code",
   "execution_count": 51,
   "id": "f0efcb81",
   "metadata": {
    "ExecuteTime": {
     "end_time": "2022-10-17T14:06:33.567807Z",
     "start_time": "2022-10-17T14:06:33.509353Z"
    }
   },
   "outputs": [
    {
     "data": {
      "text/html": [
       "<div>\n",
       "<style scoped>\n",
       "    .dataframe tbody tr th:only-of-type {\n",
       "        vertical-align: middle;\n",
       "    }\n",
       "\n",
       "    .dataframe tbody tr th {\n",
       "        vertical-align: top;\n",
       "    }\n",
       "\n",
       "    .dataframe thead th {\n",
       "        text-align: right;\n",
       "    }\n",
       "</style>\n",
       "<table border=\"1\" class=\"dataframe\">\n",
       "  <thead>\n",
       "    <tr style=\"text-align: right;\">\n",
       "      <th></th>\n",
       "      <th>RandD_Spend</th>\n",
       "      <th>Administration</th>\n",
       "      <th>Marketing_Spend</th>\n",
       "      <th>State</th>\n",
       "      <th>Profit</th>\n",
       "    </tr>\n",
       "  </thead>\n",
       "  <tbody>\n",
       "    <tr>\n",
       "      <th>0</th>\n",
       "      <td>165349.20</td>\n",
       "      <td>136897.80</td>\n",
       "      <td>471784.10</td>\n",
       "      <td>New York</td>\n",
       "      <td>192261.83</td>\n",
       "    </tr>\n",
       "    <tr>\n",
       "      <th>1</th>\n",
       "      <td>162597.70</td>\n",
       "      <td>151377.59</td>\n",
       "      <td>443898.53</td>\n",
       "      <td>California</td>\n",
       "      <td>191792.06</td>\n",
       "    </tr>\n",
       "    <tr>\n",
       "      <th>2</th>\n",
       "      <td>153441.51</td>\n",
       "      <td>101145.55</td>\n",
       "      <td>407934.54</td>\n",
       "      <td>Florida</td>\n",
       "      <td>191050.39</td>\n",
       "    </tr>\n",
       "    <tr>\n",
       "      <th>3</th>\n",
       "      <td>144372.41</td>\n",
       "      <td>118671.85</td>\n",
       "      <td>383199.62</td>\n",
       "      <td>New York</td>\n",
       "      <td>182901.99</td>\n",
       "    </tr>\n",
       "    <tr>\n",
       "      <th>4</th>\n",
       "      <td>142107.34</td>\n",
       "      <td>91391.77</td>\n",
       "      <td>366168.42</td>\n",
       "      <td>Florida</td>\n",
       "      <td>166187.94</td>\n",
       "    </tr>\n",
       "    <tr>\n",
       "      <th>5</th>\n",
       "      <td>131876.90</td>\n",
       "      <td>99814.71</td>\n",
       "      <td>362861.36</td>\n",
       "      <td>New York</td>\n",
       "      <td>156991.12</td>\n",
       "    </tr>\n",
       "    <tr>\n",
       "      <th>6</th>\n",
       "      <td>134615.46</td>\n",
       "      <td>147198.87</td>\n",
       "      <td>127716.82</td>\n",
       "      <td>California</td>\n",
       "      <td>156122.51</td>\n",
       "    </tr>\n",
       "    <tr>\n",
       "      <th>7</th>\n",
       "      <td>130298.13</td>\n",
       "      <td>145530.06</td>\n",
       "      <td>323876.68</td>\n",
       "      <td>Florida</td>\n",
       "      <td>155752.60</td>\n",
       "    </tr>\n",
       "    <tr>\n",
       "      <th>8</th>\n",
       "      <td>120542.52</td>\n",
       "      <td>148718.95</td>\n",
       "      <td>311613.29</td>\n",
       "      <td>New York</td>\n",
       "      <td>152211.77</td>\n",
       "    </tr>\n",
       "    <tr>\n",
       "      <th>9</th>\n",
       "      <td>123334.88</td>\n",
       "      <td>108679.17</td>\n",
       "      <td>304981.62</td>\n",
       "      <td>California</td>\n",
       "      <td>149759.96</td>\n",
       "    </tr>\n",
       "    <tr>\n",
       "      <th>10</th>\n",
       "      <td>101913.08</td>\n",
       "      <td>110594.11</td>\n",
       "      <td>229160.95</td>\n",
       "      <td>Florida</td>\n",
       "      <td>146121.95</td>\n",
       "    </tr>\n",
       "    <tr>\n",
       "      <th>11</th>\n",
       "      <td>100671.96</td>\n",
       "      <td>91790.61</td>\n",
       "      <td>249744.55</td>\n",
       "      <td>California</td>\n",
       "      <td>144259.40</td>\n",
       "    </tr>\n",
       "    <tr>\n",
       "      <th>12</th>\n",
       "      <td>93863.75</td>\n",
       "      <td>127320.38</td>\n",
       "      <td>249839.44</td>\n",
       "      <td>Florida</td>\n",
       "      <td>141585.52</td>\n",
       "    </tr>\n",
       "    <tr>\n",
       "      <th>13</th>\n",
       "      <td>91992.39</td>\n",
       "      <td>135495.07</td>\n",
       "      <td>252664.93</td>\n",
       "      <td>California</td>\n",
       "      <td>134307.35</td>\n",
       "    </tr>\n",
       "    <tr>\n",
       "      <th>14</th>\n",
       "      <td>119943.24</td>\n",
       "      <td>156547.42</td>\n",
       "      <td>256512.92</td>\n",
       "      <td>Florida</td>\n",
       "      <td>132602.65</td>\n",
       "    </tr>\n",
       "    <tr>\n",
       "      <th>15</th>\n",
       "      <td>114523.61</td>\n",
       "      <td>122616.84</td>\n",
       "      <td>261776.23</td>\n",
       "      <td>New York</td>\n",
       "      <td>129917.04</td>\n",
       "    </tr>\n",
       "    <tr>\n",
       "      <th>16</th>\n",
       "      <td>78013.11</td>\n",
       "      <td>121597.55</td>\n",
       "      <td>264346.06</td>\n",
       "      <td>California</td>\n",
       "      <td>126992.93</td>\n",
       "    </tr>\n",
       "    <tr>\n",
       "      <th>17</th>\n",
       "      <td>94657.16</td>\n",
       "      <td>145077.58</td>\n",
       "      <td>282574.31</td>\n",
       "      <td>New York</td>\n",
       "      <td>125370.37</td>\n",
       "    </tr>\n",
       "    <tr>\n",
       "      <th>18</th>\n",
       "      <td>91749.16</td>\n",
       "      <td>114175.79</td>\n",
       "      <td>294919.57</td>\n",
       "      <td>Florida</td>\n",
       "      <td>124266.90</td>\n",
       "    </tr>\n",
       "    <tr>\n",
       "      <th>19</th>\n",
       "      <td>86419.70</td>\n",
       "      <td>153514.11</td>\n",
       "      <td>0.00</td>\n",
       "      <td>New York</td>\n",
       "      <td>122776.86</td>\n",
       "    </tr>\n",
       "    <tr>\n",
       "      <th>20</th>\n",
       "      <td>76253.86</td>\n",
       "      <td>113867.30</td>\n",
       "      <td>298664.47</td>\n",
       "      <td>California</td>\n",
       "      <td>118474.03</td>\n",
       "    </tr>\n",
       "    <tr>\n",
       "      <th>21</th>\n",
       "      <td>78389.47</td>\n",
       "      <td>153773.43</td>\n",
       "      <td>299737.29</td>\n",
       "      <td>New York</td>\n",
       "      <td>111313.02</td>\n",
       "    </tr>\n",
       "    <tr>\n",
       "      <th>22</th>\n",
       "      <td>73994.56</td>\n",
       "      <td>122782.75</td>\n",
       "      <td>303319.26</td>\n",
       "      <td>Florida</td>\n",
       "      <td>110352.25</td>\n",
       "    </tr>\n",
       "    <tr>\n",
       "      <th>23</th>\n",
       "      <td>67532.53</td>\n",
       "      <td>105751.03</td>\n",
       "      <td>304768.73</td>\n",
       "      <td>Florida</td>\n",
       "      <td>108733.99</td>\n",
       "    </tr>\n",
       "    <tr>\n",
       "      <th>24</th>\n",
       "      <td>77044.01</td>\n",
       "      <td>99281.34</td>\n",
       "      <td>140574.81</td>\n",
       "      <td>New York</td>\n",
       "      <td>108552.04</td>\n",
       "    </tr>\n",
       "    <tr>\n",
       "      <th>25</th>\n",
       "      <td>64664.71</td>\n",
       "      <td>139553.16</td>\n",
       "      <td>137962.62</td>\n",
       "      <td>California</td>\n",
       "      <td>107404.34</td>\n",
       "    </tr>\n",
       "    <tr>\n",
       "      <th>26</th>\n",
       "      <td>75328.87</td>\n",
       "      <td>144135.98</td>\n",
       "      <td>134050.07</td>\n",
       "      <td>Florida</td>\n",
       "      <td>105733.54</td>\n",
       "    </tr>\n",
       "    <tr>\n",
       "      <th>27</th>\n",
       "      <td>72107.60</td>\n",
       "      <td>127864.55</td>\n",
       "      <td>353183.81</td>\n",
       "      <td>New York</td>\n",
       "      <td>105008.31</td>\n",
       "    </tr>\n",
       "    <tr>\n",
       "      <th>28</th>\n",
       "      <td>66051.52</td>\n",
       "      <td>182645.56</td>\n",
       "      <td>118148.20</td>\n",
       "      <td>Florida</td>\n",
       "      <td>103282.38</td>\n",
       "    </tr>\n",
       "    <tr>\n",
       "      <th>29</th>\n",
       "      <td>65605.48</td>\n",
       "      <td>153032.06</td>\n",
       "      <td>107138.38</td>\n",
       "      <td>New York</td>\n",
       "      <td>101004.64</td>\n",
       "    </tr>\n",
       "    <tr>\n",
       "      <th>30</th>\n",
       "      <td>61994.48</td>\n",
       "      <td>115641.28</td>\n",
       "      <td>91131.24</td>\n",
       "      <td>Florida</td>\n",
       "      <td>99937.59</td>\n",
       "    </tr>\n",
       "    <tr>\n",
       "      <th>31</th>\n",
       "      <td>61136.38</td>\n",
       "      <td>152701.92</td>\n",
       "      <td>88218.23</td>\n",
       "      <td>New York</td>\n",
       "      <td>97483.56</td>\n",
       "    </tr>\n",
       "    <tr>\n",
       "      <th>32</th>\n",
       "      <td>63408.86</td>\n",
       "      <td>129219.61</td>\n",
       "      <td>46085.25</td>\n",
       "      <td>California</td>\n",
       "      <td>97427.84</td>\n",
       "    </tr>\n",
       "    <tr>\n",
       "      <th>33</th>\n",
       "      <td>55493.95</td>\n",
       "      <td>103057.49</td>\n",
       "      <td>214634.81</td>\n",
       "      <td>Florida</td>\n",
       "      <td>96778.92</td>\n",
       "    </tr>\n",
       "    <tr>\n",
       "      <th>34</th>\n",
       "      <td>46426.07</td>\n",
       "      <td>157693.92</td>\n",
       "      <td>210797.67</td>\n",
       "      <td>California</td>\n",
       "      <td>96712.80</td>\n",
       "    </tr>\n",
       "    <tr>\n",
       "      <th>35</th>\n",
       "      <td>46014.02</td>\n",
       "      <td>85047.44</td>\n",
       "      <td>205517.64</td>\n",
       "      <td>New York</td>\n",
       "      <td>96479.51</td>\n",
       "    </tr>\n",
       "    <tr>\n",
       "      <th>36</th>\n",
       "      <td>28663.76</td>\n",
       "      <td>127056.21</td>\n",
       "      <td>201126.82</td>\n",
       "      <td>Florida</td>\n",
       "      <td>90708.19</td>\n",
       "    </tr>\n",
       "    <tr>\n",
       "      <th>37</th>\n",
       "      <td>44069.95</td>\n",
       "      <td>51283.14</td>\n",
       "      <td>197029.42</td>\n",
       "      <td>California</td>\n",
       "      <td>89949.14</td>\n",
       "    </tr>\n",
       "    <tr>\n",
       "      <th>38</th>\n",
       "      <td>20229.59</td>\n",
       "      <td>65947.93</td>\n",
       "      <td>185265.10</td>\n",
       "      <td>New York</td>\n",
       "      <td>81229.06</td>\n",
       "    </tr>\n",
       "    <tr>\n",
       "      <th>39</th>\n",
       "      <td>38558.51</td>\n",
       "      <td>82982.09</td>\n",
       "      <td>174999.30</td>\n",
       "      <td>California</td>\n",
       "      <td>81005.76</td>\n",
       "    </tr>\n",
       "    <tr>\n",
       "      <th>40</th>\n",
       "      <td>28754.33</td>\n",
       "      <td>118546.05</td>\n",
       "      <td>172795.67</td>\n",
       "      <td>California</td>\n",
       "      <td>78239.91</td>\n",
       "    </tr>\n",
       "    <tr>\n",
       "      <th>41</th>\n",
       "      <td>27892.92</td>\n",
       "      <td>84710.77</td>\n",
       "      <td>164470.71</td>\n",
       "      <td>Florida</td>\n",
       "      <td>77798.83</td>\n",
       "    </tr>\n",
       "    <tr>\n",
       "      <th>42</th>\n",
       "      <td>23640.93</td>\n",
       "      <td>96189.63</td>\n",
       "      <td>148001.11</td>\n",
       "      <td>California</td>\n",
       "      <td>71498.49</td>\n",
       "    </tr>\n",
       "    <tr>\n",
       "      <th>43</th>\n",
       "      <td>15505.73</td>\n",
       "      <td>127382.30</td>\n",
       "      <td>35534.17</td>\n",
       "      <td>New York</td>\n",
       "      <td>69758.98</td>\n",
       "    </tr>\n",
       "    <tr>\n",
       "      <th>44</th>\n",
       "      <td>22177.74</td>\n",
       "      <td>154806.14</td>\n",
       "      <td>28334.72</td>\n",
       "      <td>California</td>\n",
       "      <td>65200.33</td>\n",
       "    </tr>\n",
       "    <tr>\n",
       "      <th>45</th>\n",
       "      <td>1000.23</td>\n",
       "      <td>124153.04</td>\n",
       "      <td>1903.93</td>\n",
       "      <td>New York</td>\n",
       "      <td>64926.08</td>\n",
       "    </tr>\n",
       "    <tr>\n",
       "      <th>46</th>\n",
       "      <td>1315.46</td>\n",
       "      <td>115816.21</td>\n",
       "      <td>297114.46</td>\n",
       "      <td>Florida</td>\n",
       "      <td>49490.75</td>\n",
       "    </tr>\n",
       "    <tr>\n",
       "      <th>47</th>\n",
       "      <td>0.00</td>\n",
       "      <td>135426.92</td>\n",
       "      <td>0.00</td>\n",
       "      <td>California</td>\n",
       "      <td>42559.73</td>\n",
       "    </tr>\n",
       "    <tr>\n",
       "      <th>48</th>\n",
       "      <td>542.05</td>\n",
       "      <td>51743.15</td>\n",
       "      <td>0.00</td>\n",
       "      <td>New York</td>\n",
       "      <td>35673.41</td>\n",
       "    </tr>\n",
       "  </tbody>\n",
       "</table>\n",
       "</div>"
      ],
      "text/plain": [
       "    RandD_Spend  Administration  Marketing_Spend       State     Profit\n",
       "0     165349.20       136897.80        471784.10    New York  192261.83\n",
       "1     162597.70       151377.59        443898.53  California  191792.06\n",
       "2     153441.51       101145.55        407934.54     Florida  191050.39\n",
       "3     144372.41       118671.85        383199.62    New York  182901.99\n",
       "4     142107.34        91391.77        366168.42     Florida  166187.94\n",
       "5     131876.90        99814.71        362861.36    New York  156991.12\n",
       "6     134615.46       147198.87        127716.82  California  156122.51\n",
       "7     130298.13       145530.06        323876.68     Florida  155752.60\n",
       "8     120542.52       148718.95        311613.29    New York  152211.77\n",
       "9     123334.88       108679.17        304981.62  California  149759.96\n",
       "10    101913.08       110594.11        229160.95     Florida  146121.95\n",
       "11    100671.96        91790.61        249744.55  California  144259.40\n",
       "12     93863.75       127320.38        249839.44     Florida  141585.52\n",
       "13     91992.39       135495.07        252664.93  California  134307.35\n",
       "14    119943.24       156547.42        256512.92     Florida  132602.65\n",
       "15    114523.61       122616.84        261776.23    New York  129917.04\n",
       "16     78013.11       121597.55        264346.06  California  126992.93\n",
       "17     94657.16       145077.58        282574.31    New York  125370.37\n",
       "18     91749.16       114175.79        294919.57     Florida  124266.90\n",
       "19     86419.70       153514.11             0.00    New York  122776.86\n",
       "20     76253.86       113867.30        298664.47  California  118474.03\n",
       "21     78389.47       153773.43        299737.29    New York  111313.02\n",
       "22     73994.56       122782.75        303319.26     Florida  110352.25\n",
       "23     67532.53       105751.03        304768.73     Florida  108733.99\n",
       "24     77044.01        99281.34        140574.81    New York  108552.04\n",
       "25     64664.71       139553.16        137962.62  California  107404.34\n",
       "26     75328.87       144135.98        134050.07     Florida  105733.54\n",
       "27     72107.60       127864.55        353183.81    New York  105008.31\n",
       "28     66051.52       182645.56        118148.20     Florida  103282.38\n",
       "29     65605.48       153032.06        107138.38    New York  101004.64\n",
       "30     61994.48       115641.28         91131.24     Florida   99937.59\n",
       "31     61136.38       152701.92         88218.23    New York   97483.56\n",
       "32     63408.86       129219.61         46085.25  California   97427.84\n",
       "33     55493.95       103057.49        214634.81     Florida   96778.92\n",
       "34     46426.07       157693.92        210797.67  California   96712.80\n",
       "35     46014.02        85047.44        205517.64    New York   96479.51\n",
       "36     28663.76       127056.21        201126.82     Florida   90708.19\n",
       "37     44069.95        51283.14        197029.42  California   89949.14\n",
       "38     20229.59        65947.93        185265.10    New York   81229.06\n",
       "39     38558.51        82982.09        174999.30  California   81005.76\n",
       "40     28754.33       118546.05        172795.67  California   78239.91\n",
       "41     27892.92        84710.77        164470.71     Florida   77798.83\n",
       "42     23640.93        96189.63        148001.11  California   71498.49\n",
       "43     15505.73       127382.30         35534.17    New York   69758.98\n",
       "44     22177.74       154806.14         28334.72  California   65200.33\n",
       "45      1000.23       124153.04          1903.93    New York   64926.08\n",
       "46      1315.46       115816.21        297114.46     Florida   49490.75\n",
       "47         0.00       135426.92             0.00  California   42559.73\n",
       "48       542.05        51743.15             0.00    New York   35673.41"
      ]
     },
     "execution_count": 51,
     "metadata": {},
     "output_type": "execute_result"
    }
   ],
   "source": [
    "data1"
   ]
  },
  {
   "cell_type": "markdown",
   "id": "b88b3fd0",
   "metadata": {
    "ExecuteTime": {
     "end_time": "2022-10-17T13:33:50.392065Z",
     "start_time": "2022-10-17T13:33:50.384067Z"
    }
   },
   "source": [
    "# Again Building Final Model "
   ]
  },
  {
   "cell_type": "code",
   "execution_count": 52,
   "id": "61be9eb9",
   "metadata": {
    "ExecuteTime": {
     "end_time": "2022-10-17T14:06:49.627246Z",
     "start_time": "2022-10-17T14:06:49.603246Z"
    }
   },
   "outputs": [],
   "source": [
    "final_model = smf.ols('Profit~RandD_Spend+Administration+Marketing_Spend', data= data1).fit()"
   ]
  },
  {
   "cell_type": "code",
   "execution_count": 53,
   "id": "3b8c71d6",
   "metadata": {
    "ExecuteTime": {
     "end_time": "2022-10-17T14:06:50.454136Z",
     "start_time": "2022-10-17T14:06:50.438137Z"
    }
   },
   "outputs": [
    {
     "data": {
      "text/plain": [
       "(0.9613162435129847, 1020.5652974526367)"
      ]
     },
     "execution_count": 53,
     "metadata": {},
     "output_type": "execute_result"
    }
   ],
   "source": [
    "final_model.rsquared, final_model.aic"
   ]
  },
  {
   "cell_type": "code",
   "execution_count": 54,
   "id": "3d8fdc42",
   "metadata": {
    "ExecuteTime": {
     "end_time": "2022-10-17T14:06:52.434892Z",
     "start_time": "2022-10-17T14:06:52.364943Z"
    }
   },
   "outputs": [
    {
     "data": {
      "text/html": [
       "<div>\n",
       "<style scoped>\n",
       "    .dataframe tbody tr th:only-of-type {\n",
       "        vertical-align: middle;\n",
       "    }\n",
       "\n",
       "    .dataframe tbody tr th {\n",
       "        vertical-align: top;\n",
       "    }\n",
       "\n",
       "    .dataframe thead th {\n",
       "        text-align: right;\n",
       "    }\n",
       "</style>\n",
       "<table border=\"1\" class=\"dataframe\">\n",
       "  <thead>\n",
       "    <tr style=\"text-align: right;\">\n",
       "      <th></th>\n",
       "      <th>RandD_Spend</th>\n",
       "      <th>Administration</th>\n",
       "      <th>Marketing_Spend</th>\n",
       "      <th>Profit</th>\n",
       "      <th>Pred_Profit</th>\n",
       "    </tr>\n",
       "  </thead>\n",
       "  <tbody>\n",
       "    <tr>\n",
       "      <th>0</th>\n",
       "      <td>165349.20</td>\n",
       "      <td>136897.80</td>\n",
       "      <td>471784.10</td>\n",
       "      <td>192261.83</td>\n",
       "      <td>190716.676999</td>\n",
       "    </tr>\n",
       "    <tr>\n",
       "      <th>1</th>\n",
       "      <td>162597.70</td>\n",
       "      <td>151377.59</td>\n",
       "      <td>443898.53</td>\n",
       "      <td>191792.06</td>\n",
       "      <td>187537.122227</td>\n",
       "    </tr>\n",
       "    <tr>\n",
       "      <th>2</th>\n",
       "      <td>153441.51</td>\n",
       "      <td>101145.55</td>\n",
       "      <td>407934.54</td>\n",
       "      <td>191050.39</td>\n",
       "      <td>180575.526396</td>\n",
       "    </tr>\n",
       "    <tr>\n",
       "      <th>3</th>\n",
       "      <td>144372.41</td>\n",
       "      <td>118671.85</td>\n",
       "      <td>383199.62</td>\n",
       "      <td>182901.99</td>\n",
       "      <td>172461.144642</td>\n",
       "    </tr>\n",
       "    <tr>\n",
       "      <th>4</th>\n",
       "      <td>142107.34</td>\n",
       "      <td>91391.77</td>\n",
       "      <td>366168.42</td>\n",
       "      <td>166187.94</td>\n",
       "      <td>170863.486721</td>\n",
       "    </tr>\n",
       "    <tr>\n",
       "      <th>5</th>\n",
       "      <td>131876.90</td>\n",
       "      <td>99814.71</td>\n",
       "      <td>362861.36</td>\n",
       "      <td>156991.12</td>\n",
       "      <td>162582.583177</td>\n",
       "    </tr>\n",
       "    <tr>\n",
       "      <th>6</th>\n",
       "      <td>134615.46</td>\n",
       "      <td>147198.87</td>\n",
       "      <td>127716.82</td>\n",
       "      <td>156122.51</td>\n",
       "      <td>157741.338633</td>\n",
       "    </tr>\n",
       "    <tr>\n",
       "      <th>7</th>\n",
       "      <td>130298.13</td>\n",
       "      <td>145530.06</td>\n",
       "      <td>323876.68</td>\n",
       "      <td>155752.60</td>\n",
       "      <td>159347.735318</td>\n",
       "    </tr>\n",
       "    <tr>\n",
       "      <th>8</th>\n",
       "      <td>120542.52</td>\n",
       "      <td>148718.95</td>\n",
       "      <td>311613.29</td>\n",
       "      <td>152211.77</td>\n",
       "      <td>151328.826941</td>\n",
       "    </tr>\n",
       "    <tr>\n",
       "      <th>9</th>\n",
       "      <td>123334.88</td>\n",
       "      <td>108679.17</td>\n",
       "      <td>304981.62</td>\n",
       "      <td>149759.96</td>\n",
       "      <td>154236.846778</td>\n",
       "    </tr>\n",
       "    <tr>\n",
       "      <th>10</th>\n",
       "      <td>101913.08</td>\n",
       "      <td>110594.11</td>\n",
       "      <td>229160.95</td>\n",
       "      <td>146121.95</td>\n",
       "      <td>135507.792682</td>\n",
       "    </tr>\n",
       "    <tr>\n",
       "      <th>11</th>\n",
       "      <td>100671.96</td>\n",
       "      <td>91790.61</td>\n",
       "      <td>249744.55</td>\n",
       "      <td>144259.40</td>\n",
       "      <td>135472.855621</td>\n",
       "    </tr>\n",
       "    <tr>\n",
       "      <th>12</th>\n",
       "      <td>93863.75</td>\n",
       "      <td>127320.38</td>\n",
       "      <td>249839.44</td>\n",
       "      <td>141585.52</td>\n",
       "      <td>129355.599449</td>\n",
       "    </tr>\n",
       "    <tr>\n",
       "      <th>13</th>\n",
       "      <td>91992.39</td>\n",
       "      <td>135495.07</td>\n",
       "      <td>252664.93</td>\n",
       "      <td>134307.35</td>\n",
       "      <td>127780.129139</td>\n",
       "    </tr>\n",
       "    <tr>\n",
       "      <th>14</th>\n",
       "      <td>119943.24</td>\n",
       "      <td>156547.42</td>\n",
       "      <td>256512.92</td>\n",
       "      <td>132602.65</td>\n",
       "      <td>149295.404796</td>\n",
       "    </tr>\n",
       "    <tr>\n",
       "      <th>15</th>\n",
       "      <td>114523.61</td>\n",
       "      <td>122616.84</td>\n",
       "      <td>261776.23</td>\n",
       "      <td>129917.04</td>\n",
       "      <td>145937.941975</td>\n",
       "    </tr>\n",
       "    <tr>\n",
       "      <th>16</th>\n",
       "      <td>78013.11</td>\n",
       "      <td>121597.55</td>\n",
       "      <td>264346.06</td>\n",
       "      <td>126992.93</td>\n",
       "      <td>117437.627921</td>\n",
       "    </tr>\n",
       "    <tr>\n",
       "      <th>17</th>\n",
       "      <td>94657.16</td>\n",
       "      <td>145077.58</td>\n",
       "      <td>282574.31</td>\n",
       "      <td>125370.37</td>\n",
       "      <td>130408.626295</td>\n",
       "    </tr>\n",
       "    <tr>\n",
       "      <th>18</th>\n",
       "      <td>91749.16</td>\n",
       "      <td>114175.79</td>\n",
       "      <td>294919.57</td>\n",
       "      <td>124266.90</td>\n",
       "      <td>129129.234457</td>\n",
       "    </tr>\n",
       "    <tr>\n",
       "      <th>19</th>\n",
       "      <td>86419.70</td>\n",
       "      <td>153514.11</td>\n",
       "      <td>0.00</td>\n",
       "      <td>122776.86</td>\n",
       "      <td>116641.003121</td>\n",
       "    </tr>\n",
       "    <tr>\n",
       "      <th>20</th>\n",
       "      <td>76253.86</td>\n",
       "      <td>113867.30</td>\n",
       "      <td>298664.47</td>\n",
       "      <td>118474.03</td>\n",
       "      <td>117097.731866</td>\n",
       "    </tr>\n",
       "    <tr>\n",
       "      <th>21</th>\n",
       "      <td>78389.47</td>\n",
       "      <td>153773.43</td>\n",
       "      <td>299737.29</td>\n",
       "      <td>111313.02</td>\n",
       "      <td>117911.019038</td>\n",
       "    </tr>\n",
       "    <tr>\n",
       "      <th>22</th>\n",
       "      <td>73994.56</td>\n",
       "      <td>122782.75</td>\n",
       "      <td>303319.26</td>\n",
       "      <td>110352.25</td>\n",
       "      <td>115248.217796</td>\n",
       "    </tr>\n",
       "    <tr>\n",
       "      <th>23</th>\n",
       "      <td>67532.53</td>\n",
       "      <td>105751.03</td>\n",
       "      <td>304768.73</td>\n",
       "      <td>108733.99</td>\n",
       "      <td>110603.139045</td>\n",
       "    </tr>\n",
       "    <tr>\n",
       "      <th>24</th>\n",
       "      <td>77044.01</td>\n",
       "      <td>99281.34</td>\n",
       "      <td>140574.81</td>\n",
       "      <td>108552.04</td>\n",
       "      <td>114051.073877</td>\n",
       "    </tr>\n",
       "    <tr>\n",
       "      <th>25</th>\n",
       "      <td>64664.71</td>\n",
       "      <td>139553.16</td>\n",
       "      <td>137962.62</td>\n",
       "      <td>107404.34</td>\n",
       "      <td>103398.054385</td>\n",
       "    </tr>\n",
       "    <tr>\n",
       "      <th>26</th>\n",
       "      <td>75328.87</td>\n",
       "      <td>144135.98</td>\n",
       "      <td>134050.07</td>\n",
       "      <td>105733.54</td>\n",
       "      <td>111547.638935</td>\n",
       "    </tr>\n",
       "    <tr>\n",
       "      <th>27</th>\n",
       "      <td>72107.60</td>\n",
       "      <td>127864.55</td>\n",
       "      <td>353183.81</td>\n",
       "      <td>105008.31</td>\n",
       "      <td>114916.165026</td>\n",
       "    </tr>\n",
       "    <tr>\n",
       "      <th>28</th>\n",
       "      <td>66051.52</td>\n",
       "      <td>182645.56</td>\n",
       "      <td>118148.20</td>\n",
       "      <td>103282.38</td>\n",
       "      <td>103027.229434</td>\n",
       "    </tr>\n",
       "    <tr>\n",
       "      <th>29</th>\n",
       "      <td>65605.48</td>\n",
       "      <td>153032.06</td>\n",
       "      <td>107138.38</td>\n",
       "      <td>101004.64</td>\n",
       "      <td>103057.621761</td>\n",
       "    </tr>\n",
       "    <tr>\n",
       "      <th>30</th>\n",
       "      <td>61994.48</td>\n",
       "      <td>115641.28</td>\n",
       "      <td>91131.24</td>\n",
       "      <td>99937.59</td>\n",
       "      <td>100656.410227</td>\n",
       "    </tr>\n",
       "    <tr>\n",
       "      <th>31</th>\n",
       "      <td>61136.38</td>\n",
       "      <td>152701.92</td>\n",
       "      <td>88218.23</td>\n",
       "      <td>97483.56</td>\n",
       "      <td>99088.213693</td>\n",
       "    </tr>\n",
       "    <tr>\n",
       "      <th>32</th>\n",
       "      <td>63408.86</td>\n",
       "      <td>129219.61</td>\n",
       "      <td>46085.25</td>\n",
       "      <td>97427.84</td>\n",
       "      <td>100325.741335</td>\n",
       "    </tr>\n",
       "    <tr>\n",
       "      <th>33</th>\n",
       "      <td>55493.95</td>\n",
       "      <td>103057.49</td>\n",
       "      <td>214634.81</td>\n",
       "      <td>96778.92</td>\n",
       "      <td>98962.303136</td>\n",
       "    </tr>\n",
       "    <tr>\n",
       "      <th>34</th>\n",
       "      <td>46426.07</td>\n",
       "      <td>157693.92</td>\n",
       "      <td>210797.67</td>\n",
       "      <td>96712.80</td>\n",
       "      <td>90552.307809</td>\n",
       "    </tr>\n",
       "    <tr>\n",
       "      <th>35</th>\n",
       "      <td>46014.02</td>\n",
       "      <td>85047.44</td>\n",
       "      <td>205517.64</td>\n",
       "      <td>96479.51</td>\n",
       "      <td>91709.288672</td>\n",
       "    </tr>\n",
       "    <tr>\n",
       "      <th>36</th>\n",
       "      <td>28663.76</td>\n",
       "      <td>127056.21</td>\n",
       "      <td>201126.82</td>\n",
       "      <td>90708.19</td>\n",
       "      <td>77080.554255</td>\n",
       "    </tr>\n",
       "    <tr>\n",
       "      <th>37</th>\n",
       "      <td>44069.95</td>\n",
       "      <td>51283.14</td>\n",
       "      <td>197029.42</td>\n",
       "      <td>89949.14</td>\n",
       "      <td>90722.503244</td>\n",
       "    </tr>\n",
       "    <tr>\n",
       "      <th>38</th>\n",
       "      <td>20229.59</td>\n",
       "      <td>65947.93</td>\n",
       "      <td>185265.10</td>\n",
       "      <td>81229.06</td>\n",
       "      <td>71433.021956</td>\n",
       "    </tr>\n",
       "    <tr>\n",
       "      <th>39</th>\n",
       "      <td>38558.51</td>\n",
       "      <td>82982.09</td>\n",
       "      <td>174999.30</td>\n",
       "      <td>81005.76</td>\n",
       "      <td>85147.375646</td>\n",
       "    </tr>\n",
       "    <tr>\n",
       "      <th>40</th>\n",
       "      <td>28754.33</td>\n",
       "      <td>118546.05</td>\n",
       "      <td>172795.67</td>\n",
       "      <td>78239.91</td>\n",
       "      <td>76625.510303</td>\n",
       "    </tr>\n",
       "    <tr>\n",
       "      <th>41</th>\n",
       "      <td>27892.92</td>\n",
       "      <td>84710.77</td>\n",
       "      <td>164470.71</td>\n",
       "      <td>77798.83</td>\n",
       "      <td>76492.145175</td>\n",
       "    </tr>\n",
       "    <tr>\n",
       "      <th>42</th>\n",
       "      <td>23640.93</td>\n",
       "      <td>96189.63</td>\n",
       "      <td>148001.11</td>\n",
       "      <td>71498.49</td>\n",
       "      <td>72492.394974</td>\n",
       "    </tr>\n",
       "    <tr>\n",
       "      <th>43</th>\n",
       "      <td>15505.73</td>\n",
       "      <td>127382.30</td>\n",
       "      <td>35534.17</td>\n",
       "      <td>69758.98</td>\n",
       "      <td>62592.049718</td>\n",
       "    </tr>\n",
       "    <tr>\n",
       "      <th>44</th>\n",
       "      <td>22177.74</td>\n",
       "      <td>154806.14</td>\n",
       "      <td>28334.72</td>\n",
       "      <td>65200.33</td>\n",
       "      <td>67025.731107</td>\n",
       "    </tr>\n",
       "    <tr>\n",
       "      <th>45</th>\n",
       "      <td>1000.23</td>\n",
       "      <td>124153.04</td>\n",
       "      <td>1903.93</td>\n",
       "      <td>64926.08</td>\n",
       "      <td>50457.297206</td>\n",
       "    </tr>\n",
       "    <tr>\n",
       "      <th>46</th>\n",
       "      <td>1315.46</td>\n",
       "      <td>115816.21</td>\n",
       "      <td>297114.46</td>\n",
       "      <td>49490.75</td>\n",
       "      <td>58338.443625</td>\n",
       "    </tr>\n",
       "    <tr>\n",
       "      <th>47</th>\n",
       "      <td>0.00</td>\n",
       "      <td>135426.92</td>\n",
       "      <td>0.00</td>\n",
       "      <td>42559.73</td>\n",
       "      <td>49375.776655</td>\n",
       "    </tr>\n",
       "    <tr>\n",
       "      <th>48</th>\n",
       "      <td>542.05</td>\n",
       "      <td>51743.15</td>\n",
       "      <td>0.00</td>\n",
       "      <td>35673.41</td>\n",
       "      <td>51658.096812</td>\n",
       "    </tr>\n",
       "  </tbody>\n",
       "</table>\n",
       "</div>"
      ],
      "text/plain": [
       "    RandD_Spend  Administration  Marketing_Spend     Profit    Pred_Profit\n",
       "0     165349.20       136897.80        471784.10  192261.83  190716.676999\n",
       "1     162597.70       151377.59        443898.53  191792.06  187537.122227\n",
       "2     153441.51       101145.55        407934.54  191050.39  180575.526396\n",
       "3     144372.41       118671.85        383199.62  182901.99  172461.144642\n",
       "4     142107.34        91391.77        366168.42  166187.94  170863.486721\n",
       "5     131876.90        99814.71        362861.36  156991.12  162582.583177\n",
       "6     134615.46       147198.87        127716.82  156122.51  157741.338633\n",
       "7     130298.13       145530.06        323876.68  155752.60  159347.735318\n",
       "8     120542.52       148718.95        311613.29  152211.77  151328.826941\n",
       "9     123334.88       108679.17        304981.62  149759.96  154236.846778\n",
       "10    101913.08       110594.11        229160.95  146121.95  135507.792682\n",
       "11    100671.96        91790.61        249744.55  144259.40  135472.855621\n",
       "12     93863.75       127320.38        249839.44  141585.52  129355.599449\n",
       "13     91992.39       135495.07        252664.93  134307.35  127780.129139\n",
       "14    119943.24       156547.42        256512.92  132602.65  149295.404796\n",
       "15    114523.61       122616.84        261776.23  129917.04  145937.941975\n",
       "16     78013.11       121597.55        264346.06  126992.93  117437.627921\n",
       "17     94657.16       145077.58        282574.31  125370.37  130408.626295\n",
       "18     91749.16       114175.79        294919.57  124266.90  129129.234457\n",
       "19     86419.70       153514.11             0.00  122776.86  116641.003121\n",
       "20     76253.86       113867.30        298664.47  118474.03  117097.731866\n",
       "21     78389.47       153773.43        299737.29  111313.02  117911.019038\n",
       "22     73994.56       122782.75        303319.26  110352.25  115248.217796\n",
       "23     67532.53       105751.03        304768.73  108733.99  110603.139045\n",
       "24     77044.01        99281.34        140574.81  108552.04  114051.073877\n",
       "25     64664.71       139553.16        137962.62  107404.34  103398.054385\n",
       "26     75328.87       144135.98        134050.07  105733.54  111547.638935\n",
       "27     72107.60       127864.55        353183.81  105008.31  114916.165026\n",
       "28     66051.52       182645.56        118148.20  103282.38  103027.229434\n",
       "29     65605.48       153032.06        107138.38  101004.64  103057.621761\n",
       "30     61994.48       115641.28         91131.24   99937.59  100656.410227\n",
       "31     61136.38       152701.92         88218.23   97483.56   99088.213693\n",
       "32     63408.86       129219.61         46085.25   97427.84  100325.741335\n",
       "33     55493.95       103057.49        214634.81   96778.92   98962.303136\n",
       "34     46426.07       157693.92        210797.67   96712.80   90552.307809\n",
       "35     46014.02        85047.44        205517.64   96479.51   91709.288672\n",
       "36     28663.76       127056.21        201126.82   90708.19   77080.554255\n",
       "37     44069.95        51283.14        197029.42   89949.14   90722.503244\n",
       "38     20229.59        65947.93        185265.10   81229.06   71433.021956\n",
       "39     38558.51        82982.09        174999.30   81005.76   85147.375646\n",
       "40     28754.33       118546.05        172795.67   78239.91   76625.510303\n",
       "41     27892.92        84710.77        164470.71   77798.83   76492.145175\n",
       "42     23640.93        96189.63        148001.11   71498.49   72492.394974\n",
       "43     15505.73       127382.30         35534.17   69758.98   62592.049718\n",
       "44     22177.74       154806.14         28334.72   65200.33   67025.731107\n",
       "45      1000.23       124153.04          1903.93   64926.08   50457.297206\n",
       "46      1315.46       115816.21        297114.46   49490.75   58338.443625\n",
       "47         0.00       135426.92             0.00   42559.73   49375.776655\n",
       "48       542.05        51743.15             0.00   35673.41   51658.096812"
      ]
     },
     "execution_count": 54,
     "metadata": {},
     "output_type": "execute_result"
    }
   ],
   "source": [
    "pred = pd.DataFrame()\n",
    "pred['RandD_Spend']=data1.RandD_Spend\n",
    "pred['Administration']= data1.Administration\n",
    "pred['Marketing_Spend']=data1.Marketing_Spend\n",
    "pred['Profit']=data1.Profit\n",
    "pred['Pred_Profit'] = pd.DataFrame(final_model.predict(pred[['RandD_Spend','Administration','Marketing_Spend']]))\n",
    "pred"
   ]
  },
  {
   "cell_type": "code",
   "execution_count": null,
   "id": "ce3af08e",
   "metadata": {},
   "outputs": [],
   "source": []
  }
 ],
 "metadata": {
  "kernelspec": {
   "display_name": "Python 3 (ipykernel)",
   "language": "python",
   "name": "python3"
  },
  "language_info": {
   "codemirror_mode": {
    "name": "ipython",
    "version": 3
   },
   "file_extension": ".py",
   "mimetype": "text/x-python",
   "name": "python",
   "nbconvert_exporter": "python",
   "pygments_lexer": "ipython3",
   "version": "3.9.7"
  }
 },
 "nbformat": 4,
 "nbformat_minor": 5
}
